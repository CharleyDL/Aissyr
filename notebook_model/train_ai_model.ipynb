{
 "cells": [
  {
   "cell_type": "markdown",
   "metadata": {},
   "source": [
    "<h4 style=\"text-align: center;\">NOTEBOOK</h4>\n",
    "<p style=\"text-align: center; font-style: italic\">~~ TRAINING AI MODEL ~~</p>\n",
    "</br>\n",
    "\n",
    "<p style=\"text-align: justify; margin-left: 80px; margin-right: 80px;\">\n",
    "Ce notebook a pour objectif de regrouper les différents modèles d'architecture d'intelligence artificiel pour la détection des glyphes cunéiformes.</p>\n",
    "\n",
    "</br>\n",
    "\n",
    "<h3 style=\"text-align: justify; margin-left: 40px; margin-right: 80px;\">\n",
    "<b>Sommaire</b>\n",
    "</h3>\n",
    "\n",
    "<span style=\"margin-left: 80px;\">- 1</span></br>\n",
    "<span style=\"margin-left: 80px;\">- 2</span></br>\n",
    "<span style=\"margin-left: 80px;\">- 3</span></br>\n",
    "\n",
    "</br>\n",
    "\n",
    "---\n",
    "</br>"
   ]
  },
  {
   "cell_type": "code",
   "execution_count": 26,
   "metadata": {},
   "outputs": [],
   "source": [
    "import dagshub\n",
    "import mlflow\n",
    "import pandas as pd\n",
    "\n",
    "# - Import Personal Library\n",
    "import sys\n",
    "sys.path.append(\"../utils/\")                    # - db_data_fetch\n",
    "\n",
    "import db_data_fetch as dbdf"
   ]
  },
  {
   "cell_type": "markdown",
   "metadata": {},
   "source": [
    "## Get data from database (bbox and images)"
   ]
  },
  {
   "cell_type": "code",
   "execution_count": 27,
   "metadata": {},
   "outputs": [],
   "source": [
    "SPLIT_SET = ['train', 'test']\n",
    "\n",
    "df_train = pd.DataFrame()\n",
    "df_test = pd.DataFrame()"
   ]
  },
  {
   "cell_type": "code",
   "execution_count": 28,
   "metadata": {},
   "outputs": [],
   "source": [
    "## - Fetch Data Bbox Annotation\n",
    "for param in SPLIT_SET:\n",
    "    result = dbdf.fetch_data_bbox_annotation(param)\n",
    "\n",
    "    if param == 'train':\n",
    "        df_train = result\n",
    "    elif param == 'test':\n",
    "        df_test = result"
   ]
  },
  {
   "cell_type": "code",
   "execution_count": 29,
   "metadata": {},
   "outputs": [
    {
     "data": {
      "text/html": [
       "<div>\n",
       "<style scoped>\n",
       "    .dataframe tbody tr th:only-of-type {\n",
       "        vertical-align: middle;\n",
       "    }\n",
       "\n",
       "    .dataframe tbody tr th {\n",
       "        vertical-align: top;\n",
       "    }\n",
       "\n",
       "    .dataframe thead th {\n",
       "        text-align: right;\n",
       "    }\n",
       "</style>\n",
       "<table border=\"1\" class=\"dataframe\">\n",
       "  <thead>\n",
       "    <tr style=\"text-align: right;\">\n",
       "      <th></th>\n",
       "      <th>tablet_CDLI</th>\n",
       "      <th>bbox_segment</th>\n",
       "      <th>bbox_glyph</th>\n",
       "      <th>mzl_number</th>\n",
       "      <th>train_label</th>\n",
       "    </tr>\n",
       "  </thead>\n",
       "  <tbody>\n",
       "    <tr>\n",
       "      <th>0</th>\n",
       "      <td>P334894</td>\n",
       "      <td>[640, 1919, 1397, 3280]</td>\n",
       "      <td>[165, 60, 231, 136]</td>\n",
       "      <td>839</td>\n",
       "      <td>11</td>\n",
       "    </tr>\n",
       "    <tr>\n",
       "      <th>1</th>\n",
       "      <td>P334894</td>\n",
       "      <td>[640, 1919, 1397, 3280]</td>\n",
       "      <td>[220, 69, 341, 130]</td>\n",
       "      <td>110</td>\n",
       "      <td>4</td>\n",
       "    </tr>\n",
       "    <tr>\n",
       "      <th>2</th>\n",
       "      <td>P334894</td>\n",
       "      <td>[640, 1919, 1397, 3280]</td>\n",
       "      <td>[171, 137, 308, 214]</td>\n",
       "      <td>18</td>\n",
       "      <td>210</td>\n",
       "    </tr>\n",
       "    <tr>\n",
       "      <th>3</th>\n",
       "      <td>P334894</td>\n",
       "      <td>[640, 1919, 1397, 3280]</td>\n",
       "      <td>[287, 140, 406, 212]</td>\n",
       "      <td>24</td>\n",
       "      <td>58</td>\n",
       "    </tr>\n",
       "    <tr>\n",
       "      <th>4</th>\n",
       "      <td>P334894</td>\n",
       "      <td>[640, 1919, 1397, 3280]</td>\n",
       "      <td>[164, 217, 268, 301]</td>\n",
       "      <td>812</td>\n",
       "      <td>82</td>\n",
       "    </tr>\n",
       "    <tr>\n",
       "      <th>5</th>\n",
       "      <td>P334894</td>\n",
       "      <td>[640, 1919, 1397, 3280]</td>\n",
       "      <td>[238, 228, 284, 281]</td>\n",
       "      <td>661</td>\n",
       "      <td>16</td>\n",
       "    </tr>\n",
       "    <tr>\n",
       "      <th>6</th>\n",
       "      <td>P334894</td>\n",
       "      <td>[640, 1919, 1397, 3280]</td>\n",
       "      <td>[277, 210, 407, 287]</td>\n",
       "      <td>736</td>\n",
       "      <td>77</td>\n",
       "    </tr>\n",
       "    <tr>\n",
       "      <th>7</th>\n",
       "      <td>P334894</td>\n",
       "      <td>[640, 1919, 1397, 3280]</td>\n",
       "      <td>[256, 296, 407, 384]</td>\n",
       "      <td>266</td>\n",
       "      <td>119</td>\n",
       "    </tr>\n",
       "    <tr>\n",
       "      <th>8</th>\n",
       "      <td>P334894</td>\n",
       "      <td>[640, 1919, 1397, 3280]</td>\n",
       "      <td>[162, 383, 238, 460]</td>\n",
       "      <td>839</td>\n",
       "      <td>11</td>\n",
       "    </tr>\n",
       "    <tr>\n",
       "      <th>9</th>\n",
       "      <td>P334894</td>\n",
       "      <td>[640, 1919, 1397, 3280]</td>\n",
       "      <td>[211, 387, 322, 463]</td>\n",
       "      <td>248</td>\n",
       "      <td>5</td>\n",
       "    </tr>\n",
       "  </tbody>\n",
       "</table>\n",
       "</div>"
      ],
      "text/plain": [
       "  tablet_CDLI             bbox_segment            bbox_glyph  mzl_number  \\\n",
       "0     P334894  [640, 1919, 1397, 3280]   [165, 60, 231, 136]         839   \n",
       "1     P334894  [640, 1919, 1397, 3280]   [220, 69, 341, 130]         110   \n",
       "2     P334894  [640, 1919, 1397, 3280]  [171, 137, 308, 214]          18   \n",
       "3     P334894  [640, 1919, 1397, 3280]  [287, 140, 406, 212]          24   \n",
       "4     P334894  [640, 1919, 1397, 3280]  [164, 217, 268, 301]         812   \n",
       "5     P334894  [640, 1919, 1397, 3280]  [238, 228, 284, 281]         661   \n",
       "6     P334894  [640, 1919, 1397, 3280]  [277, 210, 407, 287]         736   \n",
       "7     P334894  [640, 1919, 1397, 3280]  [256, 296, 407, 384]         266   \n",
       "8     P334894  [640, 1919, 1397, 3280]  [162, 383, 238, 460]         839   \n",
       "9     P334894  [640, 1919, 1397, 3280]  [211, 387, 322, 463]         248   \n",
       "\n",
       "   train_label  \n",
       "0           11  \n",
       "1            4  \n",
       "2          210  \n",
       "3           58  \n",
       "4           82  \n",
       "5           16  \n",
       "6           77  \n",
       "7          119  \n",
       "8           11  \n",
       "9            5  "
      ]
     },
     "execution_count": 29,
     "metadata": {},
     "output_type": "execute_result"
    }
   ],
   "source": [
    "df_train.head(10)\n",
    "# df_test.head(10)"
   ]
  },
  {
   "cell_type": "code",
   "execution_count": 30,
   "metadata": {},
   "outputs": [],
   "source": [
    "train_images = pd.DataFrame()\n",
    "test_images = pd.DataFrame()"
   ]
  },
  {
   "cell_type": "code",
   "execution_count": 31,
   "metadata": {},
   "outputs": [
    {
     "name": "stdout",
     "output_type": "stream",
     "text": [
      "Failed : syntax error at or near \".\"\n",
      "LINE 4:                 tr.picture\n",
      "                          ^\n",
      "\n",
      "Failed : syntax error at or near \".\"\n",
      "LINE 4:                 tr.picture\n",
      "                          ^\n",
      "\n"
     ]
    }
   ],
   "source": [
    "## - Fetch Data Image\n",
    "for param in SPLIT_SET:\n",
    "    result = dbdf.fetch_image(param)\n",
    "\n",
    "    if param == 'train':\n",
    "        train_images = result\n",
    "    elif param == 'test':\n",
    "        test_images = result"
   ]
  }
 ],
 "metadata": {
  "kernelspec": {
   "display_name": "env",
   "language": "python",
   "name": "python3"
  },
  "language_info": {
   "codemirror_mode": {
    "name": "ipython",
    "version": 3
   },
   "file_extension": ".py",
   "mimetype": "text/x-python",
   "name": "python",
   "nbconvert_exporter": "python",
   "pygments_lexer": "ipython3",
   "version": "3.11.1"
  }
 },
 "nbformat": 4,
 "nbformat_minor": 2
}
