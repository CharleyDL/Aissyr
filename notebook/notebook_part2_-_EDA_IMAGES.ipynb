{
 "cells": [
  {
   "cell_type": "markdown",
   "metadata": {},
   "source": [
    "<h1 style=\"text-align: center;\">PROJECT NEO AISSYR</h1>\n",
    "\n",
    "<img \n",
    "    style=\"display: block; \n",
    "           margin-left: auto;\n",
    "           margin-right: auto;\n",
    "           width: 40%;\"\n",
    "    src=\"/Users/charley.dlebarbier/Documents/Dev/VSCode/Projects/projet_NeoAIssyr/extra/cover.jpg\" \n",
    "    alt=\"æventyr illustration\">\n",
    "</img>\n",
    "\n",
    "<h3 style=\"margin-left: 80px; font-style: bold;\">ABSTRACT : FR - EN</h3>\n",
    "<p style=\"text-align: justify; margin-left: 80px; margin-right: 80px;\">\n",
    "Neo AISSYR est une <b>web application</b> permettant aux chercheurs, spécialistes ou curieux de l'empire Assyrien, de transcrire les tablettes en cunéiforme de la période dite Néo-Assyrienne s'étendant entre 900 et 600 ans avant notre ère.\n",
    "\n",
    "<p style=\"text-align: center;\">-*-</p>\n",
    "<p style=\"text-align: justify; margin-left: 80px; margin-right: 80px;\">\n",
    "Neo AISSYR is a <b>web application</b> enabling researchers, specialists or those curious about the Assyrian Empire, to transcribe cuneiform tablets from the so-called Neo-Assyrian period stretching from 900 to 600 BC.\n",
    "\n",
    "</br>\n",
    "\n",
    "<p style=\"text-align: center;\">-*-</p>\n",
    "<h4 style=\"margin-left: 80px; font-style: bold;\">Source dataset</h4>\n",
    "<p style=\"text-align: justify; margin-left: 80px; margin-right: 80px;\">\n",
    "<a href=\"https://github.com/CompVis/cuneiform-sign-detection-dataset\">Github Dataset</a></p>\n",
    "<p style=\"text-align: justify; margin-left: 80px; margin-right: 80px;\">\n",
    "Introduit dans : <em>Dencker, T., Klinkisch, P., Maul, S. M., and Ommer, B. (2020): Deep Learning of Cuneiform Sign Detection with Weak Supervision using Transliteration Alignment, PLOS ONE, 15:12, pp. 1–21</em> <a href=\"https://doi.org/10.1371/journal.pone.0243039\">article link</a></p>\n",
    "\n",
    "---\n"
   ]
  },
  {
   "cell_type": "markdown",
   "metadata": {},
   "source": [
    "<h4 style=\"text-align: center;\">NOTEBOOK PARTIE 2 - PART 2</h4>\n",
    "<p style=\"text-align: center; font-style: italic\">~~ OBTENIR LES IMAGES - DOWNLOAD IMAGES ~~</p>\n",
    "</br>\n",
    "\n",
    "<p style=\"text-align: justify; margin-left: 80px; margin-right: 80px;\">\n",
    "<p style=\"text-align: justify; margin-left: 80px; margin-right: 80px;\">\n",
    "Ce projet s'appuie sur le dataset présenté dans l'article <em>Dencker, T., Klinkisch, P., Maul, S. M., and Ommer, B. (2020): Deep Learning of Cuneiform Sign Detection with Weak Supervision using Transliteration Alignment, PLOS ONE, 15:12, pp. 1–21</em> est disponible sur <a href=\"https://github.com/CompVis/cuneiform-sign-detection-dataset\">Github</a>. L'ensemble des données repose sur plus de 1800 images de tablettes d'argile de l'époque néo-assyrienne de l'écriture cunéiforme (900 - 600 ans AV. N. È.). Le dataset, fournit les Bounding Box de 8109 signes labellisés en 189 classes, réparties sur 81 tablettes.</p>\n",
    "</p>\n",
    "\n",
    "<p style=\"text-align: justify; margin-left: 80px; margin-right: 80px;\">\n",
    "Dans un <a href=\"notebook_part1_-_EDA_DATASET.ipynb\">premier notebook</a>, l'analyse des fichiers CSV du dataset a été effectuée. Cependant, étant donné l'absence des images des tablettes dans les dossiers, il est nécessaire de les télécharger depuis une source externe. Une opération de web scraping sera effectuée sur le site web de la Cuneiform Digital Library Initiative (CDLI), un groupe international d'assyriologues, de conservateurs de musées et d'historiens qui met à disposition les artefacts en cunéiforme. Cette démarche vise à récupérer les tablettes indispensables à l'entraînement du modèle d'IA. Tout comme pour le premier notebook, une analyse approfondie des images sera effectuée en les mettant en parallèle des fichiers CSV.\n",
    "</p>\n",
    "\n",
    "</br>\n",
    "\n",
    "---\n",
    "</br>"
   ]
  },
  {
   "cell_type": "code",
   "execution_count": 1,
   "metadata": {},
   "outputs": [],
   "source": [
    "import os\n",
    "import pandas as pd\n",
    "import urllib.request, urllib.error\n",
    "\n",
    "from glob import glob\n",
    "from tqdm import tqdm"
   ]
  },
  {
   "cell_type": "markdown",
   "metadata": {},
   "source": [
    "## Récupérer les noms des tablets des datasets \n",
    "\n",
    "Téléchargement des images depuis le site CDLI (Cuneiform Digital Library Initiative). Les images provenant du Vorderasiatisches Museum Berlin (libellé VAT) proviennent d'une archive zip disponible depuis le lien source.\n",
    "\n",
    "Pour le moment on ne se base pas sur la construction train et test déjà présente dans le dataset, nous allons au contraire télécharger l'ensemble des tablets puis par la suite décomposer celles-ci sur notre propre train/test split."
   ]
  },
  {
   "cell_type": "code",
   "execution_count": 9,
   "metadata": {},
   "outputs": [],
   "source": [
    "FOLDER_PATH = '../data/annotations/'\n",
    "\n",
    "## - VAT Tablet download from zip not available in CDLI database\n",
    "vat_tablets = ['VAT08803Rs', 'VAT08803Vs', 'VAT10601', 'VAT10657', \n",
    "               'VAT11100Rs', 'VAT13604Rs', 'VAT13604Vs']\n",
    "\n",
    "tablets_list = []"
   ]
  },
  {
   "cell_type": "code",
   "execution_count": 10,
   "metadata": {},
   "outputs": [],
   "source": [
    "def get_tablet_references(folder_path: str) -> None:\n",
    "    \"\"\"\n",
    "    Retrieves unique tablet references from a collection of CSV files in the specified folder.\n",
    "\n",
    "    Parameters\n",
    "    ----\n",
    "    - folder_path (str, required): The path to the folder containing CSV files.\n",
    "\n",
    "    Returns\n",
    "    ----\n",
    "    None\n",
    "\n",
    "    The function reads each CSV file in the specified folder, extracts unique tablet references from the 'tablet_CDLI' column,\n",
    "    and appends them to the global 'tablets_list'.\n",
    "\n",
    "    The tablet references are filtered to include only those not already present\n",
    "    in 'tablets_list' and other control list (vat_tablets).\n",
    "    \"\"\"\n",
    "    files_path = glob(os.path.join(folder_path, 'bbox*.csv'))\n",
    "\n",
    "    for file in files_path:\n",
    "        df = pd.read_csv(file)\n",
    "\n",
    "        tablets_from_file = df['tablet_CDLI'].unique()\n",
    "        tablets_list.extend(set(tablets_from_file) - set(tablets_list) - set(vat_tablets))"
   ]
  },
  {
   "cell_type": "code",
   "execution_count": 11,
   "metadata": {},
   "outputs": [],
   "source": [
    "get_tablet_references(FOLDER_PATH)"
   ]
  },
  {
   "cell_type": "markdown",
   "metadata": {},
   "source": [
    "Une fois l'ensemble des tablettes récupérées depuis les csv de références, nous pouvons télécharger les images. \n",
    "\n",
    "Cependant, deux cas de figures peuvent se présenter :\n",
    "- la référence de la tablette est introuvable (changement de référence ou suppression de la base)\n",
    "- erreur 500\n",
    "\n",
    "Nous prévoyons une liste de récupération des tablettes qui n'ont pu être téléchargées, et ce, afin de contrôler manuellement l'existence de ces références sous un autre nom."
   ]
  },
  {
   "cell_type": "code",
   "execution_count": 17,
   "metadata": {},
   "outputs": [],
   "source": [
    "IMAGE_FOLDER = '../data/images/CDLI/'\n",
    "CDLI_URL = 'https://cdli.ucla.edu/dl/photo/{}.jpg'\n",
    "\n",
    "failed_tablets = []"
   ]
  },
  {
   "cell_type": "code",
   "execution_count": 15,
   "metadata": {},
   "outputs": [],
   "source": [
    "def download_img(url: str, file_path: str, file_name: str, format: str='jpg'):\n",
    "    \"\"\"Download Image from Internet via URL (can be dynamic) using urllib\n",
    "    Params\n",
    "    ----\n",
    "    - url: String (required)\n",
    "    - file_path: String (required), where the file will be saved\n",
    "    - file_name: String (required), the name for the file\n",
    "    - format: String (default: jpg)\n",
    "    \"\"\"\n",
    "    saved_path = f'{file_path}{file_name}.{format}'\n",
    "\n",
    "    try:\n",
    "        urllib.request.urlretrieve(url, saved_path)\n",
    "\n",
    "    except urllib.error.URLError as e:\n",
    "        print(f\"Error downloading {file_name}: {e}\")\n",
    "        failed_tablets.append(file_name)"
   ]
  },
  {
   "cell_type": "code",
   "execution_count": 18,
   "metadata": {},
   "outputs": [
    {
     "name": "stderr",
     "output_type": "stream",
     "text": [
      "  3%|▎         | 2/74 [00:02<01:06,  1.08it/s]"
     ]
    },
    {
     "name": "stdout",
     "output_type": "stream",
     "text": [
      "Error downloading K01057: HTTP Error 500: Internal Server Error\n"
     ]
    },
    {
     "name": "stderr",
     "output_type": "stream",
     "text": [
      " 47%|████▋     | 35/74 [00:31<00:24,  1.58it/s]"
     ]
    },
    {
     "name": "stdout",
     "output_type": "stream",
     "text": [
      "Error downloading P336663b: HTTP Error 500: Internal Server Error\n"
     ]
    },
    {
     "name": "stderr",
     "output_type": "stream",
     "text": [
      " 89%|████████▉ | 66/74 [01:00<00:05,  1.53it/s]"
     ]
    },
    {
     "name": "stdout",
     "output_type": "stream",
     "text": [
      "Error downloading K08396: HTTP Error 500: Internal Server Error\n"
     ]
    },
    {
     "name": "stderr",
     "output_type": "stream",
     "text": [
      " 91%|█████████ | 67/74 [01:00<00:03,  1.78it/s]"
     ]
    },
    {
     "name": "stdout",
     "output_type": "stream",
     "text": [
      "Error downloading ND02486: HTTP Error 500: Internal Server Error\n"
     ]
    },
    {
     "name": "stderr",
     "output_type": "stream",
     "text": [
      " 92%|█████████▏| 68/74 [01:01<00:03,  1.97it/s]"
     ]
    },
    {
     "name": "stdout",
     "output_type": "stream",
     "text": [
      "Error downloading BM099070: HTTP Error 500: Internal Server Error\n"
     ]
    },
    {
     "name": "stderr",
     "output_type": "stream",
     "text": [
      " 97%|█████████▋| 72/74 [01:05<00:01,  1.19it/s]"
     ]
    },
    {
     "name": "stdout",
     "output_type": "stream",
     "text": [
      "Error downloading K09237Vs: HTTP Error 500: Internal Server Error\n"
     ]
    },
    {
     "name": "stderr",
     "output_type": "stream",
     "text": [
      "100%|██████████| 74/74 [01:08<00:00,  1.08it/s]\n"
     ]
    }
   ],
   "source": [
    "for tablet in tqdm(tablets_list):\n",
    "    img_url = CDLI_URL.format(tablet)\n",
    "    download_img(img_url, IMAGE_FOLDER, tablet)"
   ]
  },
  {
   "cell_type": "code",
   "execution_count": 19,
   "metadata": {},
   "outputs": [
    {
     "data": {
      "text/plain": [
       "['K01057', 'P336663b', 'K08396', 'ND02486', 'BM099070', 'K09237Vs']"
      ]
     },
     "execution_count": 19,
     "metadata": {},
     "output_type": "execute_result"
    }
   ],
   "source": [
    "failed_tablets"
   ]
  },
  {
   "cell_type": "markdown",
   "metadata": {},
   "source": [
    "Les tablettes suivantes n'ont pas été trouvées sur le site via le script :\n",
    "- K01057, \n",
    "- P336663b, \n",
    "- K08396, \n",
    "- ND02486, \n",
    "- BM099070, \n",
    "- K09237Vs\n",
    "\n",
    "Il se peut que la référence de l'url est un autre nom.\n",
    "Pour cela, nous vérifions manuellement si ces tablettes sont toujours présentes sur le site ou non.\n",
    "\n",
    "URL : https://cdli.mpiwg-berlin.mpg.de/search?simple-value%5B%5D=&simple-field%5B%5D=\n",
    "\n",
    "\n",
    "Après vérification :\n",
    "\n",
    "- K01057 -> P334042\n",
    "- P336663b -> Référence P336663 existante, mais mauvaise prise de vue \n",
    "- K08396 -> P394941\n",
    "- ND02486 -> P393688\n",
    "- BM099070 -> P336615\n",
    "- K09237Vs -> Référence K09237 existante, mais mauvaise prise de vue\n",
    "\n",
    "Les tablettes peuvent ainsi être téléchargées. Pour des raisons de correspondance avec les csv, le nom originel des tablettes sera préservé."
   ]
  },
  {
   "cell_type": "code",
   "execution_count": 22,
   "metadata": {},
   "outputs": [
    {
     "name": "stderr",
     "output_type": "stream",
     "text": [
      "100%|██████████| 4/4 [00:02<00:00,  1.60it/s]\n"
     ]
    }
   ],
   "source": [
    "dict_failed_tablet = {\n",
    "    'K01057': 'P334042', \n",
    "    'K08396': 'P394941',\n",
    "    'ND02486': 'P393688',\n",
    "    'BM099070': 'P336615'\n",
    "}\n",
    "\n",
    "for key in tqdm(dict_failed_tablet):\n",
    "    img_url = CDLI_URL.format(dict_failed_tablet[key])\n",
    "    download_img(img_url, IMAGE_FOLDER, key)"
   ]
  }
 ],
 "metadata": {
  "kernelspec": {
   "display_name": "env",
   "language": "python",
   "name": "python3"
  },
  "language_info": {
   "codemirror_mode": {
    "name": "ipython",
    "version": 3
   },
   "file_extension": ".py",
   "mimetype": "text/x-python",
   "name": "python",
   "nbconvert_exporter": "python",
   "pygments_lexer": "ipython3",
   "version": "3.11.1"
  }
 },
 "nbformat": 4,
 "nbformat_minor": 2
}
