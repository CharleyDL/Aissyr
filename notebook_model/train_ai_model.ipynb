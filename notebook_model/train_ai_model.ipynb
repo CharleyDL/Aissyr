{
 "cells": [
  {
   "cell_type": "markdown",
   "metadata": {},
   "source": [
    "<h4 style=\"text-align: center;\">NOTEBOOK</h4>\n",
    "<p style=\"text-align: center; font-style: italic\">~~ TRAINING AI MODEL ~~</p>\n",
    "</br>\n",
    "\n",
    "<p style=\"text-align: justify; margin-left: 80px; margin-right: 80px;\">\n",
    "Ce notebook a pour objectif de regrouper les différents modèles d'architecture d'intelligence artificiel pour la détection des glyphes cunéiformes.</p>\n",
    "\n",
    "</br>\n",
    "\n",
    "<h3 style=\"text-align: justify; margin-left: 40px; margin-right: 80px;\">\n",
    "<b>Sommaire</b>\n",
    "</h3>\n",
    "\n",
    "<span style=\"margin-left: 80px;\">- 1</span></br>\n",
    "<span style=\"margin-left: 80px;\">- 2</span></br>\n",
    "<span style=\"margin-left: 80px;\">- 3</span></br>\n",
    "\n",
    "</br>\n",
    "\n",
    "---\n",
    "</br>"
   ]
  },
  {
   "cell_type": "code",
   "execution_count": 10,
   "metadata": {},
   "outputs": [],
   "source": [
    "import base64\n",
    "import dagshub\n",
    "import mlflow\n",
    "import pandas as pd\n",
    "import sys\n",
    "\n",
    "from io import BytesIO\n",
    "from PIL import Image\n",
    "from tqdm import tqdm\n",
    "\n",
    "# - Import Personal Library\n",
    "sys.path.append(\"../utils/\")    ## - db_data_fetch\n",
    "import db_data_fetch as dbdf"
   ]
  },
  {
   "cell_type": "markdown",
   "metadata": {},
   "source": [
    "## Get data from database (bbox and images)"
   ]
  },
  {
   "cell_type": "code",
   "execution_count": 11,
   "metadata": {},
   "outputs": [],
   "source": [
    "SPLIT_SET = ['train', 'test']\n",
    "\n",
    "df_train = pd.DataFrame()\n",
    "df_test = pd.DataFrame()\n",
    "\n",
    "train_images = pd.DataFrame()\n",
    "test_images = pd.DataFrame()"
   ]
  },
  {
   "cell_type": "markdown",
   "metadata": {},
   "source": [
    "#### Fetch Data Bbox Annotation"
   ]
  },
  {
   "cell_type": "code",
   "execution_count": 13,
   "metadata": {},
   "outputs": [],
   "source": [
    "for param in SPLIT_SET:\n",
    "    result = dbdf.fetch_data_bbox_annotation(param)\n",
    "\n",
    "    if param == 'train':\n",
    "        df_train = result\n",
    "    elif param == 'test':\n",
    "        df_test = result"
   ]
  },
  {
   "cell_type": "markdown",
   "metadata": {},
   "source": [
    "#### Fetch Image"
   ]
  },
  {
   "cell_type": "code",
   "execution_count": 16,
   "metadata": {},
   "outputs": [
    {
     "name": "stdout",
     "output_type": "stream",
     "text": [
      "2\n",
      "2\n"
     ]
    }
   ],
   "source": [
    "for param in SPLIT_SET:\n",
    "    result = dbdf.fetch_image(param)\n",
    "\n",
    "    if param == 'train':\n",
    "        train_images = result\n",
    "    elif param == 'test':\n",
    "        test_images = result"
   ]
  },
  {
   "cell_type": "markdown",
   "metadata": {},
   "source": [
    "#### Save dataframe in local"
   ]
  },
  {
   "cell_type": "code",
   "execution_count": null,
   "metadata": {},
   "outputs": [],
   "source": [
    "pass"
   ]
  },
  {
   "cell_type": "markdown",
   "metadata": {},
   "source": [
    "#### Decode encoded_image and saved it on local in two folder (train and test)"
   ]
  },
  {
   "cell_type": "code",
   "execution_count": 22,
   "metadata": {},
   "outputs": [],
   "source": [
    "## - Train Image\n",
    "for index, row in tqdm(train_images.iterrows(), total=train_images.shape[0]):\n",
    "    picture_data = row['encoded_image']\n",
    "    binary_data = base64.b64decode(picture_data)\n",
    "\n",
    "    image = Image.open(BytesIO(binary_data))\n",
    "\n",
    "    image.save(f'../notebook_model/data/train/{row[\"tablet_CDLI\"]}.jpg')\n",
    "    # image.show()\n",
    "\n",
    "## - Test Image\n",
    "for index, row in tqdm(test_images.iterrows(), total=test_images.shape[0]):\n",
    "    picture_data = row['encoded_image']\n",
    "    binary_data = base64.b64decode(picture_data)\n",
    "\n",
    "    image = Image.open(BytesIO(binary_data))\n",
    "\n",
    "    image.save(f'../notebook_model/data/test/{row[\"tablet_CDLI\"]}.jpg')\n",
    "    # image.show()"
   ]
  }
 ],
 "metadata": {
  "kernelspec": {
   "display_name": "env",
   "language": "python",
   "name": "python3"
  },
  "language_info": {
   "codemirror_mode": {
    "name": "ipython",
    "version": 3
   },
   "file_extension": ".py",
   "mimetype": "text/x-python",
   "name": "python",
   "nbconvert_exporter": "python",
   "pygments_lexer": "ipython3",
   "version": "3.11.1"
  }
 },
 "nbformat": 4,
 "nbformat_minor": 2
}
