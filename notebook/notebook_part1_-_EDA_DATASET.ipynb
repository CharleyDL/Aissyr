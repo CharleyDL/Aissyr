{
 "cells": [
  {
   "cell_type": "markdown",
   "metadata": {},
   "source": [
    "<h1 style=\"text-align: center;\">PROJECT NEO AISSYR</h1>\n",
    "\n",
    "<img \n",
    "    style=\"display: block; \n",
    "           margin-left: auto;\n",
    "           margin-right: auto;\n",
    "           width: 40%;\"\n",
    "    src=\"/Users/charley.dlebarbier/Documents/Dev/VSCode/Projects/projet_NeoAIssyr/extra/cover.jpg\" \n",
    "    alt=\"æventyr illustration\">\n",
    "</img>\n",
    "\n",
    "<h3 style=\"margin-left: 80px; font-style: bold;\">ABSTRACT : FR - EN</h3>\n",
    "<p style=\"text-align: justify; margin-left: 80px; margin-right: 80px;\">\n",
    "Neo AISSYR est une <b>web application</b> permettant aux chercheurs, spécialistes ou curieux de l'empire Assyrien, de transcrire les tablettes en cunéiforme de la période dite Néo-Assyrienne s'étendant entre 900 et 600 ans avant notre ère.\n",
    "\n",
    "<p style=\"text-align: center;\">-*-</p>\n",
    "<p style=\"text-align: justify; margin-left: 80px; margin-right: 80px;\">\n",
    "Neo AISSYR is a <b>web application</b> enabling researchers, specialists or those curious about the Assyrian Empire, to transcribe cuneiform tablets from the so-called Neo-Assyrian period stretching from 900 to 600 BC.\n",
    "\n",
    "</br>\n",
    "\n",
    "<p style=\"text-align: center;\">-*-</p>\n",
    "<h4 style=\"margin-left: 80px; font-style: bold;\">Source dataset</h4>\n",
    "<p style=\"text-align: justify; margin-left: 80px; margin-right: 80px;\">\n",
    "<a href=\"https://github.com/CompVis/cuneiform-sign-detection-dataset\">Github Dataset</a></p>\n",
    "<p style=\"text-align: justify; margin-left: 80px; margin-right: 80px;\">\n",
    "Introduit dans : <em>Dencker, T., Klinkisch, P., Maul, S. M., and Ommer, B. (2020): Deep Learning of Cuneiform Sign Detection with Weak Supervision using Transliteration Alignment, PLOS ONE, 15:12, pp. 1–21</em> <a href=\"https://doi.org/10.1371/journal.pone.0243039\">article link</a></p>\n",
    "\n",
    "---\n"
   ]
  },
  {
   "cell_type": "markdown",
   "metadata": {},
   "source": [
    "<h4 style=\"text-align: center;\">NOTEBOOK PARTIE 1 - PART 1</h4>\n",
    "<p style=\"text-align: center; font-style: italic\">~~ ANALYSE EXPLORATOIRE DU DATASET - DATASET EDA ~~</p>\n",
    "</br>\n",
    "\n",
    "<p style=\"text-align: justify; margin-left: 80px; margin-right: 80px;\">\n",
    "Ce projet s'appuie sur le dataset présenté dans l'article <em>Dencker, T., Klinkisch, P., Maul, S. M., and Ommer, B. (2020): Deep Learning of Cuneiform Sign Detection with Weak Supervision using Transliteration Alignment, PLOS ONE, 15:12, pp. 1–21</em> est disponible sur <a href=\"https://github.com/CompVis/cuneiform-sign-detection-dataset\">Github</a>. L'ensemble des données repose sur plus de 1800 images de tablettes d'argile de l'époque néo-assyrienne de l'écriture cunéiforme (900 - 600 ans AV. N. È.). Le dataset, fournit les Bounding Box de 8109 signes labellisés en 189 classes, réparties sur 81 tablettes.</p>\n",
    "\n",
    "<p style=\"text-align: justify; margin-left: 80px; margin-right: 80px;\">\n",
    "Le présent notebook permet de télécharger les fichiers en vue d'initier, dans un second temps, l'analyse exploratoire du dataset.\n",
    "</p>\n",
    "\n",
    "</br>\n",
    "\n",
    "---\n",
    "</br>"
   ]
  },
  {
   "cell_type": "code",
   "execution_count": 57,
   "metadata": {},
   "outputs": [],
   "source": [
    "import git\n",
    "import numpy as np\n",
    "import os\n",
    "import pandas as pd\n",
    "import re\n",
    "import shutil"
   ]
  },
  {
   "cell_type": "markdown",
   "metadata": {},
   "source": [
    "## Récupérer le dataset depuis github"
   ]
  },
  {
   "cell_type": "code",
   "execution_count": 2,
   "metadata": {},
   "outputs": [],
   "source": [
    "GIT_REPO = \"https://github.com/CompVis/cuneiform-sign-detection-dataset.git\"\n",
    "FOLDER_PATH = '../data'"
   ]
  },
  {
   "cell_type": "code",
   "execution_count": 3,
   "metadata": {},
   "outputs": [
    {
     "data": {
      "text/plain": [
       "<git.repo.base.Repo '/Users/charley.dlebarbier/Documents/Dev/VSCode/Projects/projet_NeoAIssyr/data/.git'>"
      ]
     },
     "execution_count": 3,
     "metadata": {},
     "output_type": "execute_result"
    }
   ],
   "source": [
    "git.Repo.clone_from(GIT_REPO, \n",
    "                    FOLDER_PATH,\n",
    "                    branch='master')"
   ]
  },
  {
   "cell_type": "markdown",
   "metadata": {},
   "source": [
    "## Suppression des Fichiers et Dossiers inutiles"
   ]
  },
  {
   "cell_type": "markdown",
   "metadata": {},
   "source": [
    "<p style=\"text-align: justify; margin-left: 80px; margin-right: 80px;\">\n",
    "Une fois le répertoire téléchargé, il est recommandé d'analyser sa structure en vue de supprimer d'éventuels éléments inutiles.  \n",
    "</p>"
   ]
  },
  {
   "cell_type": "code",
   "execution_count": null,
   "metadata": {},
   "outputs": [],
   "source": [
    "!rptree -d '../data'"
   ]
  },
  {
   "cell_type": "markdown",
   "metadata": {},
   "source": [
    "<p style=\"text-align: justify; margin-left: 80px; margin-right: 80px;\">\n",
    "Suite à ce premier examen, le dossier .git n'étant pas nécessaire, il est recommandé de le supprimer. \n",
    "<p>"
   ]
  },
  {
   "cell_type": "code",
   "execution_count": 18,
   "metadata": {},
   "outputs": [],
   "source": [
    "HIDDEN_GIT_PATH = '../data/.git'\n",
    "\n",
    "try:\n",
    "    shutil.rmtree(HIDDEN_GIT_PATH)\n",
    "except Exception as e:\n",
    "    print(f\"Error : {e}\")"
   ]
  },
  {
   "cell_type": "markdown",
   "metadata": {},
   "source": [
    "<p style=\"text-align: justify; margin-left: 80px; margin-right: 80px;\">\n",
    "À la suite de la suppresion, l'examen va se porter cette fois-ci sur les fichiers\n",
    "</p>"
   ]
  },
  {
   "cell_type": "code",
   "execution_count": 20,
   "metadata": {},
   "outputs": [
    {
     "name": "stdout",
     "output_type": "stream",
     "text": [
      "../data/\n",
      "│\n",
      "├── annotations/\n",
      "│   ├── bbox_annotations_saa05.csv\n",
      "│   ├── bbox_annotations_saa06.csv\n",
      "│   ├── bbox_annotations_saa09.csv\n",
      "│   ├── bbox_annotations_test_full.csv\n",
      "│   ├── bbox_annotations_train_A.csv\n",
      "│   ├── bbox_annotations_train_B.csv\n",
      "│   ├── bbox_annotations_train_C.csv\n",
      "│   ├── bbox_annotations_train_D.csv\n",
      "│   ├── bbox_annotations_train_E.csv\n",
      "│   ├── bbox_annotations_train_F.csv\n",
      "│   ├── bbox_annotations_train_full.csv\n",
      "│   ├── line_annotations_test.csv\n",
      "│   └── line_annotations_train.csv\n",
      "│\n",
      "├── images/\n",
      "│   │\n",
      "│   └── test/\n",
      "│       └── tablet_segment_annotated.png\n",
      "│\n",
      "│\n",
      "├── segments/\n",
      "│   ├── tablet_segments_saa01.csv\n",
      "│   ├── tablet_segments_saa05.csv\n",
      "│   ├── tablet_segments_saa06.csv\n",
      "│   ├── tablet_segments_saa08.csv\n",
      "│   ├── tablet_segments_saa09.csv\n",
      "│   ├── tablet_segments_saa10.csv\n",
      "│   ├── tablet_segments_saa13.csv\n",
      "│   ├── tablet_segments_saa16.csv\n",
      "│   ├── tablet_segments_test.csv\n",
      "│   └── tablet_segments_train.csv\n",
      "│\n",
      "├── transliterations/\n",
      "│   ├── transliterations_saa01.csv\n",
      "│   ├── transliterations_saa05.csv\n",
      "│   ├── transliterations_saa06.csv\n",
      "│   ├── transliterations_saa08.csv\n",
      "│   ├── transliterations_saa09.csv\n",
      "│   ├── transliterations_saa10.csv\n",
      "│   ├── transliterations_saa13.csv\n",
      "│   ├── transliterations_saa16.csv\n",
      "│   ├── transliterations_test.csv\n",
      "│   └── transliterations_train.csv\n",
      "│\n",
      "├── Cuneiform_Sign_Detection_Dataset_Introduction.ipynb\n",
      "├── README.md\n",
      "└── _config.yml\n"
     ]
    }
   ],
   "source": [
    "!rptree '../data'"
   ]
  },
  {
   "cell_type": "markdown",
   "metadata": {},
   "source": [
    "<p style=\"text-align: justify; margin-left: 80px; margin-right: 80px;\">\n",
    "Ce deuxième examen montre que certains éléments, tels que les fichiers README, config, etc ou encore le dossier test présent dans \"images\" ne sont également pas utiles.  \n",
    "Il seront ainsi supprimer pour de garder un environnement de travail propice à la suite.\n",
    "<p>"
   ]
  },
  {
   "cell_type": "code",
   "execution_count": 23,
   "metadata": {},
   "outputs": [],
   "source": [
    "DELETE_FILES_PATH = ['../data/_config.yml', \n",
    "                     '../data/Cuneiform_Sign_Detection_Dataset_Introduction.ipynb',\n",
    "                     '../data/README.md']\n",
    "\n",
    "try:\n",
    "    ## - delete 'test' folder in 'images'\n",
    "    shutil.rmtree('../data/images/test/')\n",
    "\n",
    "    ## - delete _config.yml, notebook and readme\n",
    "    for file in DELETE_FILES_PATH:\n",
    "        os.remove(file)\n",
    "\n",
    "except Exception as e:\n",
    "    print(f\"Error : {e}\")"
   ]
  },
  {
   "cell_type": "markdown",
   "metadata": {},
   "source": [
    "<p style=\"text-align: justify; margin-left: 80px; margin-right: 80px;\">\n",
    "Ce deuxième examen permet également de mettre en lumière trois sous-dossiers, dans lesquels les fichiers CSV sont répartis.\n",
    "<p>\n",
    "\n",
    "<p style=\"text-align: justify; margin-left: 80px; margin-right: 80px;\"><b>- Annotations : </b>contient les fichiers csv des bbox des signes pour les 81 tablettes, et les fichiers csv pour délimiter les lignes (1er signe au dernier signe)</p>  \n",
    "\n",
    "<p style=\"text-align: justify; margin-left: 80px; margin-right: 80px;\"><b>- Segments : </b>contient les fichiers csv pour recadrer les tablettes sur le segment étudié</p>  \n",
    "\n",
    "<p style=\"text-align: justify; margin-left: 80px; margin-right: 80px;\"><b>- Transliteration : </b>contient les fichiers csv pour faire le lien avec les transliterations de Oracc</p>"
   ]
  },
  {
   "cell_type": "markdown",
   "metadata": {},
   "source": [
    "## Dossier Annotations\n",
    "\n",
    "<p style=\"text-align: justify; margin-left: 80px; margin-right: 80px;\">\n",
    "À présent examinons le fichier bbox_annotations_train_full du dossier annotations.\n",
    "</p>\n",
    "<p style=\"text-align: justify; margin-left: 80px; margin-right: 80px;\">\n",
    "<em>Pour réduire l'EDA, le choix a été fait de se concentrer sur les fichiers qui seront utilisés par la suite</em>\n",
    "</p>"
   ]
  },
  {
   "cell_type": "code",
   "execution_count": 25,
   "metadata": {},
   "outputs": [],
   "source": [
    "df_bb_ann = pd.read_csv('../data/annotations/bbox_annotations_train_full.csv')"
   ]
  },
  {
   "cell_type": "code",
   "execution_count": 29,
   "metadata": {},
   "outputs": [
    {
     "name": "stdout",
     "output_type": "stream",
     "text": [
      "<class 'pandas.core.frame.DataFrame'>\n",
      "RangeIndex: 4708 entries, 0 to 4707\n",
      "Data columns (total 8 columns):\n",
      " #   Column         Non-Null Count  Dtype \n",
      "---  ------         --------------  ----- \n",
      " 0   segm_idx       4708 non-null   int64 \n",
      " 1   tablet_CDLI    4708 non-null   object\n",
      " 2   view_desc      4361 non-null   object\n",
      " 3   collection     4708 non-null   object\n",
      " 4   mzl_label      4708 non-null   int64 \n",
      " 5   train_label    4708 non-null   int64 \n",
      " 6   bbox           4708 non-null   object\n",
      " 7   relative_bbox  4708 non-null   object\n",
      "dtypes: int64(3), object(5)\n",
      "memory usage: 294.4+ KB\n"
     ]
    }
   ],
   "source": [
    "df_bb_ann.info()"
   ]
  },
  {
   "cell_type": "code",
   "execution_count": 26,
   "metadata": {},
   "outputs": [
    {
     "data": {
      "text/html": [
       "<div>\n",
       "<style scoped>\n",
       "    .dataframe tbody tr th:only-of-type {\n",
       "        vertical-align: middle;\n",
       "    }\n",
       "\n",
       "    .dataframe tbody tr th {\n",
       "        vertical-align: top;\n",
       "    }\n",
       "\n",
       "    .dataframe thead th {\n",
       "        text-align: right;\n",
       "    }\n",
       "</style>\n",
       "<table border=\"1\" class=\"dataframe\">\n",
       "  <thead>\n",
       "    <tr style=\"text-align: right;\">\n",
       "      <th></th>\n",
       "      <th>segm_idx</th>\n",
       "      <th>tablet_CDLI</th>\n",
       "      <th>view_desc</th>\n",
       "      <th>collection</th>\n",
       "      <th>mzl_label</th>\n",
       "      <th>train_label</th>\n",
       "      <th>bbox</th>\n",
       "      <th>relative_bbox</th>\n",
       "    </tr>\n",
       "  </thead>\n",
       "  <tbody>\n",
       "    <tr>\n",
       "      <th>0</th>\n",
       "      <td>2061</td>\n",
       "      <td>P334894</td>\n",
       "      <td>Obv</td>\n",
       "      <td>saa05</td>\n",
       "      <td>839</td>\n",
       "      <td>11</td>\n",
       "      <td>[805, 1979, 871, 2055]</td>\n",
       "      <td>[165, 60, 231, 136]</td>\n",
       "    </tr>\n",
       "    <tr>\n",
       "      <th>1</th>\n",
       "      <td>2061</td>\n",
       "      <td>P334894</td>\n",
       "      <td>Obv</td>\n",
       "      <td>saa05</td>\n",
       "      <td>110</td>\n",
       "      <td>4</td>\n",
       "      <td>[860, 1988, 981, 2049]</td>\n",
       "      <td>[220, 69, 341, 130]</td>\n",
       "    </tr>\n",
       "    <tr>\n",
       "      <th>2</th>\n",
       "      <td>2061</td>\n",
       "      <td>P334894</td>\n",
       "      <td>Obv</td>\n",
       "      <td>saa05</td>\n",
       "      <td>18</td>\n",
       "      <td>210</td>\n",
       "      <td>[811, 2056, 948, 2133]</td>\n",
       "      <td>[171, 137, 308, 214]</td>\n",
       "    </tr>\n",
       "    <tr>\n",
       "      <th>3</th>\n",
       "      <td>2061</td>\n",
       "      <td>P334894</td>\n",
       "      <td>Obv</td>\n",
       "      <td>saa05</td>\n",
       "      <td>24</td>\n",
       "      <td>58</td>\n",
       "      <td>[927, 2059, 1046, 2131]</td>\n",
       "      <td>[287, 140, 406, 212]</td>\n",
       "    </tr>\n",
       "    <tr>\n",
       "      <th>4</th>\n",
       "      <td>2061</td>\n",
       "      <td>P334894</td>\n",
       "      <td>Obv</td>\n",
       "      <td>saa05</td>\n",
       "      <td>812</td>\n",
       "      <td>82</td>\n",
       "      <td>[804, 2136, 908, 2220]</td>\n",
       "      <td>[164, 217, 268, 301]</td>\n",
       "    </tr>\n",
       "  </tbody>\n",
       "</table>\n",
       "</div>"
      ],
      "text/plain": [
       "   segm_idx tablet_CDLI view_desc collection  mzl_label  train_label  \\\n",
       "0      2061     P334894       Obv      saa05        839           11   \n",
       "1      2061     P334894       Obv      saa05        110            4   \n",
       "2      2061     P334894       Obv      saa05         18          210   \n",
       "3      2061     P334894       Obv      saa05         24           58   \n",
       "4      2061     P334894       Obv      saa05        812           82   \n",
       "\n",
       "                      bbox         relative_bbox  \n",
       "0   [805, 1979, 871, 2055]   [165, 60, 231, 136]  \n",
       "1   [860, 1988, 981, 2049]   [220, 69, 341, 130]  \n",
       "2   [811, 2056, 948, 2133]  [171, 137, 308, 214]  \n",
       "3  [927, 2059, 1046, 2131]  [287, 140, 406, 212]  \n",
       "4   [804, 2136, 908, 2220]  [164, 217, 268, 301]  "
      ]
     },
     "execution_count": 26,
     "metadata": {},
     "output_type": "execute_result"
    }
   ],
   "source": [
    "df_bb_ann.head()"
   ]
  },
  {
   "cell_type": "markdown",
   "metadata": {},
   "source": [
    "<p style=\"text-align: justify; margin-left: 80px; margin-right: 80px;\">\n",
    "Le fichier CSV contient 4708 entrées et est structuré en 8 colonnes, fournissant les informations suivantes :\n",
    "</p>\n",
    "\n",
    "<p style=\"text-align: justify; margin-left: 80px; margin-right: 80px;\"><b>- segm_idx :</b> l'index du segment déterminant le côté de la tablette étudiée (fichiers CSV du dossier segments)</p>\n",
    "<p style=\"text-align: justify; margin-left: 80px; margin-right: 80px;\"><b>- tablet_CDLI :</b> numéro de référence de la tablette sur le site de la CDLI</p>\n",
    "<p style=\"text-align: justify; margin-left: 80px; margin-right: 80px;\"><b>- view_desc :</b> côté de la tablette étudiée -> avant : Obs ; arrière : Rev</p>\n",
    "<p style=\"text-align: justify; margin-left: 80px; margin-right: 80px;\"><b>- collection :</b> code du corpus SAAo (State Archives of Assyria online)</p>\n",
    "<p style=\"text-align: justify; margin-left: 80px; margin-right: 80px;\"><b>- mzl_label :</b> code du signe selon la classification <em>\"Mesopotamisches Zeichenlexikon\"</em> de l'assyriologue Rykle Borge</p>\n",
    "<p style=\"text-align: justify; margin-left: 80px; margin-right: 80px;\"><b>- train_label :</b> label pour l'apprentissage du modèle d'IA</p>\n",
    "<p style=\"text-align: justify; margin-left: 80px; margin-right: 80px;\"><b>- bbox :</b> coordonnées x_min, y_min, x_max, y_max de la bbox du signe, selon la taille réelle de l'image</p>\n",
    "<p style=\"text-align: justify; margin-left: 80px; margin-right: 80px;\"><b>- relative_bbox :</b> coordonnées x_min, y_min, x_max, y_max de la bbox du signe, selon le recadrage de la tablette pour ne prendre en compte que la view_desc</p>\n"
   ]
  },
  {
   "cell_type": "code",
   "execution_count": 64,
   "metadata": {},
   "outputs": [
    {
     "name": "stdout",
     "output_type": "stream",
     "text": [
      "Tablet CDLI (Unique Reference) : 47\n",
      "Tablet CDLI List : ['K01057' 'P239304' 'P313634' 'P314346' 'P314355' 'P333952' 'P334311'\n",
      " 'P334357' 'P334828' 'P334831' 'P334836' 'P334839' 'P334842' 'P334848'\n",
      " 'P334863' 'P334865' 'P334892' 'P334894' 'P334896' 'P334921' 'P335598'\n",
      " 'P335605' 'P335608' 'P336178' 'P336608' 'P336614' 'P336634' 'P336635'\n",
      " 'P336643' 'P336651' 'P336655' 'P336660' 'P336663b' 'P336670' 'P336678'\n",
      " 'P336716' 'P337153' 'P337163' 'P393668' 'P404881' 'VAT08803Rs'\n",
      " 'VAT08803Vs' 'VAT10601' 'VAT10657' 'VAT11100Rs' 'VAT13604Rs' 'VAT13604Vs']\n"
     ]
    }
   ],
   "source": [
    "list_full_tablet = np.array(np.unique(df_bb_ann['tablet_CDLI']))\n",
    "\n",
    "print(f\"Tablet CDLI (Unique Reference) : {len(list_full_tablet)}\")\n",
    "print(f\"Tablet CDLI List : {list_full_tablet}\")"
   ]
  },
  {
   "cell_type": "markdown",
   "metadata": {},
   "source": [
    "<p style=\"text-align: justify; margin-left: 80px; margin-right: 80px;\">\n",
    "Dans ce dataframe, nous avons 47 références de tablettes qui sont uniques. Étant donné qu'il comprend l'ensemble des tablettes, il est bon de vérifier qu'il est bien composé de toutes celles présentes dans les autres fichiers CSV 'bbox_annotations_train_*'. Ce contrôle garantira que ce dataframe, seul, soit suffisant pour l'apprentissage du modèle ou pour le fusionner avec celui de test, si le souhait de faire un nouveau split est envisagé. En cas de tablettes manquantes, elles pourront alors être ajouter.\n",
    "</p>\n",
    "<p style=\"text-align: justify; margin-left: 80px; margin-right: 80px;\">\n",
    "La présence de toutes les références dans le fichier 'full' se fera en contrôlant la présence des lignes des fichiers dans celui du 'full'\n",
    "</p>"
   ]
  },
  {
   "cell_type": "code",
   "execution_count": 80,
   "metadata": {},
   "outputs": [],
   "source": [
    "FOLDER_PATH = '../data/annotations/'\n",
    "FILES_SEARCH = re.compile(r'^bbox_annotations_train_[A-F]')\n",
    "\n",
    "bbox_csv_list = sorted([os.path.join(FOLDER_PATH, csv) for csv in os.listdir(FOLDER_PATH) \\\n",
    "                 if os.path.isfile(os.path.join(FOLDER_PATH, csv)) and FILES_SEARCH.match(csv)])"
   ]
  },
  {
   "cell_type": "code",
   "execution_count": 81,
   "metadata": {},
   "outputs": [
    {
     "name": "stdout",
     "output_type": "stream",
     "text": [
      "All lines from ../data/annotations/bbox_annotations_train_A.csv are in bbox_annotations_train_full.\n",
      "All lines from ../data/annotations/bbox_annotations_train_B.csv are in bbox_annotations_train_full.\n",
      "All lines from ../data/annotations/bbox_annotations_train_C.csv are in bbox_annotations_train_full.\n",
      "All lines from ../data/annotations/bbox_annotations_train_D.csv are in bbox_annotations_train_full.\n",
      "All lines from ../data/annotations/bbox_annotations_train_E.csv are in bbox_annotations_train_full.\n",
      "All lines from ../data/annotations/bbox_annotations_train_F.csv are in bbox_annotations_train_full.\n"
     ]
    }
   ],
   "source": [
    "for csv in bbox_csv_list:\n",
    "    df = pd.read_csv(csv)\n",
    "\n",
    "    merged_df = pd.merge(df, df_bb_ann, how='inner', indicator=True)\n",
    "    mismatch_rows = merged_df[merged_df['_merge'] != 'both']\n",
    "\n",
    "    if mismatch_rows.empty:\n",
    "        print(f\"All lines from {csv} are in bbox_annotations_train_full.\")\n",
    "    else:\n",
    "        print(f\"Lines from {csv} not in bbox_annotations_train_full :\")\n",
    "        print(mismatch_rows)"
   ]
  },
  {
   "cell_type": "markdown",
   "metadata": {},
   "source": [
    "<p style=\"text-align: justify; margin-left: 80px; margin-right: 80px;\">\n",
    "La vérification attestant la présence de toutes les lignes dans le fichier csv 'Full', il est possible de continuer l'analyse en se focalisant que sur ce dernier.</p>"
   ]
  },
  {
   "cell_type": "code",
   "execution_count": 82,
   "metadata": {},
   "outputs": [
    {
     "data": {
      "text/plain": [
       "segm_idx           0\n",
       "tablet_CDLI        0\n",
       "view_desc        347\n",
       "collection         0\n",
       "mzl_label          0\n",
       "train_label        0\n",
       "bbox               0\n",
       "relative_bbox      0\n",
       "dtype: int64"
      ]
     },
     "execution_count": 82,
     "metadata": {},
     "output_type": "execute_result"
    }
   ],
   "source": [
    "df_bb_ann.isnull().sum()"
   ]
  }
 ],
 "metadata": {
  "kernelspec": {
   "display_name": "env",
   "language": "python",
   "name": "python3"
  },
  "language_info": {
   "codemirror_mode": {
    "name": "ipython",
    "version": 3
   },
   "file_extension": ".py",
   "mimetype": "text/x-python",
   "name": "python",
   "nbconvert_exporter": "python",
   "pygments_lexer": "ipython3",
   "version": "3.11.1"
  }
 },
 "nbformat": 4,
 "nbformat_minor": 2
}
