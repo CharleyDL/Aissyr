{
 "cells": [
  {
   "cell_type": "markdown",
   "metadata": {},
   "source": [
    "<h4 style=\"text-align: center;\">NOTEBOOK</h4>\n",
    "<p style=\"text-align: center; font-style: italic\">~~ TRAINING AI MODEL ~~</p>\n",
    "</br>\n",
    "\n",
    "<p style=\"text-align: justify; margin-left: 80px; margin-right: 80px;\">\n",
    "Ce notebook a pour objectif de regrouper les différents modèles d'architecture d'intelligence artificiel pour la détection des glyphes cunéiformes.</p>\n",
    "\n",
    "</br>\n",
    "\n",
    "<h3 style=\"text-align: justify; margin-left: 40px; margin-right: 80px;\">\n",
    "<b>Sommaire</b>\n",
    "</h3>\n",
    "\n",
    "<span style=\"margin-left: 80px;\">- 1</span></br>\n",
    "<span style=\"margin-left: 80px;\">- 2</span></br>\n",
    "<span style=\"margin-left: 80px;\">- 3</span></br>\n",
    "\n",
    "</br>\n",
    "\n",
    "---\n",
    "</br>"
   ]
  },
  {
   "cell_type": "code",
   "execution_count": 11,
   "metadata": {},
   "outputs": [],
   "source": [
    "import base64\n",
    "import dagshub\n",
    "import mlflow\n",
    "import numpy as np\n",
    "import os\n",
    "import pandas as pd\n",
    "import sys\n",
    "\n",
    "from ast import literal_eval\n",
    "from io import BytesIO\n",
    "from PIL import Image\n",
    "from tqdm import tqdm\n",
    "\n",
    "# - Import Personal Library\n",
    "sys.path.append(\"../utils/\")    ## - db_data_fetch\n",
    "import db_data_fetch as dbdf"
   ]
  },
  {
   "cell_type": "markdown",
   "metadata": {},
   "source": [
    "## Get data from database (bbox and images)"
   ]
  },
  {
   "cell_type": "code",
   "execution_count": 2,
   "metadata": {},
   "outputs": [],
   "source": [
    "SPLIT_SET = ['train', 'test']\n",
    "\n",
    "df_train = pd.DataFrame()\n",
    "df_test = pd.DataFrame()\n",
    "\n",
    "train_images = pd.DataFrame()\n",
    "test_images = pd.DataFrame()"
   ]
  },
  {
   "cell_type": "markdown",
   "metadata": {},
   "source": [
    "#### Fetch Data Bbox Annotation"
   ]
  },
  {
   "cell_type": "code",
   "execution_count": 3,
   "metadata": {},
   "outputs": [],
   "source": [
    "for param in SPLIT_SET:\n",
    "    result = dbdf.fetch_data_bbox_annotation(param)\n",
    "\n",
    "    if param == 'train':\n",
    "        df_train = result\n",
    "    elif param == 'test':\n",
    "        df_test = result"
   ]
  },
  {
   "cell_type": "markdown",
   "metadata": {},
   "source": [
    "#### Fetch Image"
   ]
  },
  {
   "cell_type": "code",
   "execution_count": 4,
   "metadata": {},
   "outputs": [],
   "source": [
    "for param in SPLIT_SET:\n",
    "    result = dbdf.fetch_image(param)\n",
    "\n",
    "    if param == 'train':\n",
    "        train_images = result\n",
    "    elif param == 'test':\n",
    "        test_images = result"
   ]
  },
  {
   "cell_type": "markdown",
   "metadata": {},
   "source": [
    "#### Save dataframe in local"
   ]
  },
  {
   "cell_type": "code",
   "execution_count": 5,
   "metadata": {},
   "outputs": [],
   "source": [
    "df_train.to_csv('data/train.csv', index=False)\n",
    "df_test.to_csv('data/test.csv', index=False)"
   ]
  },
  {
   "cell_type": "markdown",
   "metadata": {},
   "source": [
    "#### Decode tablet_picture, crop it to get each view and saved them on local in two folder (train and test)"
   ]
  },
  {
   "cell_type": "code",
   "execution_count": 7,
   "metadata": {},
   "outputs": [],
   "source": [
    "def crop_img(img: Image.Image, bbox: np.ndarray) -> Image.Image:\n",
    "    \"\"\"Crop image reference to specific dimensions \n",
    "    with bbox (x_min, y_min, x_max, y_max) in numpy array format\"\"\"\n",
    "    return img.crop((bbox[0], bbox[1], bbox[2], bbox[3]))"
   ]
  },
  {
   "cell_type": "markdown",
   "metadata": {},
   "source": [
    "##### Train"
   ]
  },
  {
   "cell_type": "code",
   "execution_count": 15,
   "metadata": {},
   "outputs": [
    {
     "name": "stderr",
     "output_type": "stream",
     "text": [
      "100%|██████████| 132/132 [00:14<00:00,  9.04it/s]\n"
     ]
    }
   ],
   "source": [
    "directory = 'data/train_images/'\n",
    "\n",
    "## - Convert the bbox_segment to a numpy array for the crop_img function\n",
    "train_images['bbox_segment'] = train_images['bbox_segment']\\\n",
    "                               .apply(literal_eval).apply(np.array)\n",
    "\n",
    "for index, row in tqdm(train_images.iterrows(), total=train_images.shape[0]):\n",
    "    picture_data = row['tablet_picture']\n",
    "    binary_data = base64.b64decode(picture_data)\n",
    "\n",
    "    image = Image.open(BytesIO(binary_data))\n",
    "    tablet_view = crop_img(image, row['bbox_segment'])\n",
    "\n",
    "    if not os.path.exists(directory):\n",
    "        os.makedirs(directory)\n",
    "\n",
    "    tablet_view.save(os.path.join(directory, f'{row[\"tablet_name\"]}.jpg'))\n",
    "\n",
    "    # tablet_view.show()"
   ]
  },
  {
   "cell_type": "markdown",
   "metadata": {},
   "source": [
    "##### Test"
   ]
  },
  {
   "cell_type": "code",
   "execution_count": 17,
   "metadata": {},
   "outputs": [
    {
     "name": "stderr",
     "output_type": "stream",
     "text": [
      "100%|██████████| 112/112 [00:09<00:00, 11.51it/s]\n"
     ]
    }
   ],
   "source": [
    "directory = 'data/test_images/'\n",
    "\n",
    "## - Convert the bbox_segment to a numpy array for the crop_img function\n",
    "test_images['bbox_segment'] = test_images['bbox_segment']\\\n",
    "                               .apply(literal_eval).apply(np.array)\n",
    "\n",
    "for index, row in tqdm(test_images.iterrows(), total=test_images.shape[0]):\n",
    "    picture_data = row['tablet_picture']\n",
    "    binary_data = base64.b64decode(picture_data)\n",
    "\n",
    "    image = Image.open(BytesIO(binary_data))\n",
    "    tablet_view = crop_img(image, row['bbox_segment'])\n",
    "\n",
    "    if not os.path.exists(directory):\n",
    "        os.makedirs(directory)\n",
    "\n",
    "    tablet_view.save(os.path.join(directory, f'{row[\"tablet_name\"]}.jpg'))\n",
    "\n",
    "    # tablet_view.show()"
   ]
  },
  {
   "cell_type": "markdown",
   "metadata": {},
   "source": [
    "------------\n",
    "## NAIVE AI"
   ]
  },
  {
   "cell_type": "code",
   "execution_count": null,
   "metadata": {},
   "outputs": [],
   "source": [
    "dagshub.init(\"my-first-repo\", \"CharleyDL\", mlflow=True)\n",
    "mlflow.start_run()"
   ]
  },
  {
   "cell_type": "code",
   "execution_count": null,
   "metadata": {},
   "outputs": [],
   "source": []
  }
 ],
 "metadata": {
  "kernelspec": {
   "display_name": "env",
   "language": "python",
   "name": "python3"
  },
  "language_info": {
   "codemirror_mode": {
    "name": "ipython",
    "version": 3
   },
   "file_extension": ".py",
   "mimetype": "text/x-python",
   "name": "python",
   "nbconvert_exporter": "python",
   "pygments_lexer": "ipython3",
   "version": "3.11.1"
  }
 },
 "nbformat": 4,
 "nbformat_minor": 2
}
