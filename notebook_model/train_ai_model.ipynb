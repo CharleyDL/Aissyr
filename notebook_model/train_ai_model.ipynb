{
 "cells": [
  {
   "cell_type": "markdown",
   "metadata": {},
   "source": [
    "<h4 style=\"text-align: center;\">NOTEBOOK</h4>\n",
    "<p style=\"text-align: center; font-style: italic\">~~ TRAINING AI MODEL ~~</p>\n",
    "</br>\n",
    "\n",
    "<p style=\"text-align: justify; margin-left: 80px; margin-right: 80px;\">\n",
    "Ce notebook a pour objectif de regrouper les différents modèles d'architecture d'intelligence artificiel pour la détection des glyphes cunéiformes.</p>\n",
    "\n",
    "</br>\n",
    "\n",
    "<h3 style=\"text-align: justify; margin-left: 40px; margin-right: 80px;\">\n",
    "<b>Sommaire</b>\n",
    "</h3>\n",
    "\n",
    "<span style=\"margin-left: 80px;\">- 1</span></br>\n",
    "<span style=\"margin-left: 80px;\">- 2</span></br>\n",
    "<span style=\"margin-left: 80px;\">- 3</span></br>\n",
    "\n",
    "</br>\n",
    "\n",
    "---\n",
    "</br>"
   ]
  },
  {
   "cell_type": "code",
   "execution_count": 33,
   "metadata": {},
   "outputs": [],
   "source": [
    "import dagshub\n",
    "import mlflow\n",
    "import pandas as pd\n",
    "import psycopg2\n",
    "\n",
    "# - Import Personal Library\n",
    "import sys\n",
    "sys.path.append(\"../docker/postgres/script/\")   # - config\n",
    "sys.path.append(\"../utils/\")   # - db_data_fetch\n",
    "\n",
    "import config as cfg\n",
    "import db_data_fetch as dbdf"
   ]
  },
  {
   "cell_type": "code",
   "execution_count": 26,
   "metadata": {},
   "outputs": [],
   "source": [
    "CONFIG = cfg.get_db_config()"
   ]
  },
  {
   "cell_type": "markdown",
   "metadata": {},
   "source": [
    "## Get data from database (bbox and images)"
   ]
  },
  {
   "cell_type": "code",
   "execution_count": 27,
   "metadata": {},
   "outputs": [],
   "source": [
    "SPLIT_SET = ['train', 'test']\n",
    "\n",
    "df_train = pd.DataFrame()\n",
    "df_test = pd.DataFrame()"
   ]
  },
  {
   "cell_type": "code",
   "execution_count": 28,
   "metadata": {},
   "outputs": [],
   "source": [
    "## - Fetch Data Bbox Annotation\n",
    "for param in SPLIT_SET:\n",
    "    result = dbdf.fetch_data_bbox_annotation(param)\n",
    "    if param == 'train':\n",
    "        df_train = result\n",
    "    elif param == 'test':\n",
    "        df_test = result"
   ]
  },
  {
   "cell_type": "code",
   "execution_count": 30,
   "metadata": {},
   "outputs": [
    {
     "data": {
      "text/html": [
       "<div>\n",
       "<style scoped>\n",
       "    .dataframe tbody tr th:only-of-type {\n",
       "        vertical-align: middle;\n",
       "    }\n",
       "\n",
       "    .dataframe tbody tr th {\n",
       "        vertical-align: top;\n",
       "    }\n",
       "\n",
       "    .dataframe thead th {\n",
       "        text-align: right;\n",
       "    }\n",
       "</style>\n",
       "<table border=\"1\" class=\"dataframe\">\n",
       "  <thead>\n",
       "    <tr style=\"text-align: right;\">\n",
       "      <th></th>\n",
       "      <th>tablet_CDLI</th>\n",
       "      <th>bbox_segment</th>\n",
       "      <th>bbox_glyph</th>\n",
       "      <th>mzl_number</th>\n",
       "      <th>train_label</th>\n",
       "    </tr>\n",
       "  </thead>\n",
       "  <tbody>\n",
       "    <tr>\n",
       "      <th>0</th>\n",
       "      <td>K08396</td>\n",
       "      <td>[406, 83, 1360, 1046]</td>\n",
       "      <td>[504, 655, 572, 704]</td>\n",
       "      <td>252</td>\n",
       "      <td>80.0</td>\n",
       "    </tr>\n",
       "    <tr>\n",
       "      <th>1</th>\n",
       "      <td>K08396</td>\n",
       "      <td>[406, 83, 1360, 1046]</td>\n",
       "      <td>[829, 443, 890, 488]</td>\n",
       "      <td>252</td>\n",
       "      <td>80.0</td>\n",
       "    </tr>\n",
       "    <tr>\n",
       "      <th>2</th>\n",
       "      <td>K08396</td>\n",
       "      <td>[406, 83, 1360, 1046]</td>\n",
       "      <td>[323, 662, 386, 709]</td>\n",
       "      <td>737</td>\n",
       "      <td>100.0</td>\n",
       "    </tr>\n",
       "    <tr>\n",
       "      <th>3</th>\n",
       "      <td>K08396</td>\n",
       "      <td>[406, 83, 1360, 1046]</td>\n",
       "      <td>[755, 490, 814, 538]</td>\n",
       "      <td>252</td>\n",
       "      <td>80.0</td>\n",
       "    </tr>\n",
       "    <tr>\n",
       "      <th>4</th>\n",
       "      <td>K08396</td>\n",
       "      <td>[406, 83, 1360, 1046]</td>\n",
       "      <td>[715, 342, 786, 381]</td>\n",
       "      <td>736</td>\n",
       "      <td>77.0</td>\n",
       "    </tr>\n",
       "    <tr>\n",
       "      <th>5</th>\n",
       "      <td>K08396</td>\n",
       "      <td>[406, 83, 1360, 1046]</td>\n",
       "      <td>[625, 461, 697, 503]</td>\n",
       "      <td>737</td>\n",
       "      <td>100.0</td>\n",
       "    </tr>\n",
       "    <tr>\n",
       "      <th>6</th>\n",
       "      <td>K08396</td>\n",
       "      <td>[406, 83, 1360, 1046]</td>\n",
       "      <td>[722, 534, 784, 578]</td>\n",
       "      <td>812</td>\n",
       "      <td>82.0</td>\n",
       "    </tr>\n",
       "    <tr>\n",
       "      <th>7</th>\n",
       "      <td>K08396</td>\n",
       "      <td>[406, 83, 1360, 1046]</td>\n",
       "      <td>[821, 637, 897, 682]</td>\n",
       "      <td>260</td>\n",
       "      <td>84.0</td>\n",
       "    </tr>\n",
       "    <tr>\n",
       "      <th>8</th>\n",
       "      <td>K08396</td>\n",
       "      <td>[406, 83, 1360, 1046]</td>\n",
       "      <td>[411, 694, 490, 741]</td>\n",
       "      <td>490</td>\n",
       "      <td>30.0</td>\n",
       "    </tr>\n",
       "    <tr>\n",
       "      <th>9</th>\n",
       "      <td>K08396</td>\n",
       "      <td>[406, 83, 1360, 1046]</td>\n",
       "      <td>[717, 414, 784, 463]</td>\n",
       "      <td>86</td>\n",
       "      <td>48.0</td>\n",
       "    </tr>\n",
       "  </tbody>\n",
       "</table>\n",
       "</div>"
      ],
      "text/plain": [
       "  tablet_CDLI           bbox_segment            bbox_glyph  mzl_number  \\\n",
       "0      K08396  [406, 83, 1360, 1046]  [504, 655, 572, 704]         252   \n",
       "1      K08396  [406, 83, 1360, 1046]  [829, 443, 890, 488]         252   \n",
       "2      K08396  [406, 83, 1360, 1046]  [323, 662, 386, 709]         737   \n",
       "3      K08396  [406, 83, 1360, 1046]  [755, 490, 814, 538]         252   \n",
       "4      K08396  [406, 83, 1360, 1046]  [715, 342, 786, 381]         736   \n",
       "5      K08396  [406, 83, 1360, 1046]  [625, 461, 697, 503]         737   \n",
       "6      K08396  [406, 83, 1360, 1046]  [722, 534, 784, 578]         812   \n",
       "7      K08396  [406, 83, 1360, 1046]  [821, 637, 897, 682]         260   \n",
       "8      K08396  [406, 83, 1360, 1046]  [411, 694, 490, 741]         490   \n",
       "9      K08396  [406, 83, 1360, 1046]  [717, 414, 784, 463]          86   \n",
       "\n",
       "   train_label  \n",
       "0         80.0  \n",
       "1         80.0  \n",
       "2        100.0  \n",
       "3         80.0  \n",
       "4         77.0  \n",
       "5        100.0  \n",
       "6         82.0  \n",
       "7         84.0  \n",
       "8         30.0  \n",
       "9         48.0  "
      ]
     },
     "execution_count": 30,
     "metadata": {},
     "output_type": "execute_result"
    }
   ],
   "source": [
    "df_train.head(10)\n",
    "# df_test.head(10)"
   ]
  },
  {
   "cell_type": "code",
   "execution_count": 35,
   "metadata": {},
   "outputs": [
    {
     "ename": "AttributeError",
     "evalue": "module 'db_data_fetch' has no attribute 'fetch_image'",
     "output_type": "error",
     "traceback": [
      "\u001b[0;31m---------------------------------------------------------------------------\u001b[0m",
      "\u001b[0;31mAttributeError\u001b[0m                            Traceback (most recent call last)",
      "Cell \u001b[0;32mIn[35], line 6\u001b[0m\n\u001b[1;32m      3\u001b[0m test_images \u001b[38;5;241m=\u001b[39m pd\u001b[38;5;241m.\u001b[39mDataFrame()\n\u001b[1;32m      5\u001b[0m \u001b[38;5;28;01mfor\u001b[39;00m param \u001b[38;5;129;01min\u001b[39;00m SPLIT_SET:\n\u001b[0;32m----> 6\u001b[0m     result \u001b[38;5;241m=\u001b[39m \u001b[43mdbdf\u001b[49m\u001b[38;5;241;43m.\u001b[39;49m\u001b[43mfetch_image\u001b[49m(param)\n\u001b[1;32m      7\u001b[0m     \u001b[38;5;28;01mif\u001b[39;00m param \u001b[38;5;241m==\u001b[39m \u001b[38;5;124m'\u001b[39m\u001b[38;5;124mtrain\u001b[39m\u001b[38;5;124m'\u001b[39m:\n\u001b[1;32m      8\u001b[0m         train_images \u001b[38;5;241m=\u001b[39m result\n",
      "\u001b[0;31mAttributeError\u001b[0m: module 'db_data_fetch' has no attribute 'fetch_image'"
     ]
    }
   ],
   "source": [
    "## - Fetch Data Image\n",
    "train_images = pd.DataFrame()\n",
    "test_images = pd.DataFrame()\n",
    "\n",
    "for param in SPLIT_SET:\n",
    "    result = dbdf.fetch_image(param)\n",
    "    if param == 'train':\n",
    "        train_images = result\n",
    "    elif param == 'test':\n",
    "        test_images = result"
   ]
  }
 ],
 "metadata": {
  "kernelspec": {
   "display_name": "env",
   "language": "python",
   "name": "python3"
  },
  "language_info": {
   "codemirror_mode": {
    "name": "ipython",
    "version": 3
   },
   "file_extension": ".py",
   "mimetype": "text/x-python",
   "name": "python",
   "nbconvert_exporter": "python",
   "pygments_lexer": "ipython3",
   "version": "3.11.1"
  }
 },
 "nbformat": 4,
 "nbformat_minor": 2
}
