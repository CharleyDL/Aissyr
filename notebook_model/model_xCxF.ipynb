{
  "cells": [
    {
      "cell_type": "markdown",
      "metadata": {},
      "source": [
        "<h1 style=\"text-align: center;\">MODELE xCxF</h1>\n",
        "\n",
        "<img \n",
        "    style=\"display: block; \n",
        "           margin-left: auto;\n",
        "           margin-right: auto;\"\n",
        "    src=\"/Users/charley.dlebarbier/Documents/Dev/VSCode/Projects/projet_NeoAIssyr/extra/model_xcxf.png\" \n",
        "    alt=\"model_xcxf\">\n",
        "</img>"
      ]
    },
    {
      "cell_type": "markdown",
      "metadata": {
        "id": "mkt-I-9aFwSD"
      },
      "source": [
        "# -- SETUP THE ENVIRONMENT"
      ]
    },
    {
      "cell_type": "code",
      "execution_count": 3,
      "metadata": {
        "colab": {
          "base_uri": "https://localhost:8080/"
        },
        "id": "NNaA21ccsDNR",
        "outputId": "e02ea96c-bec0-4984-e898-6800b5218b26"
      },
      "outputs": [
        {
          "name": "stdout",
          "output_type": "stream",
          "text": [
            "The tensorboard extension is already loaded. To reload it, use:\n",
            "  %reload_ext tensorboard\n"
          ]
        }
      ],
      "source": [
        "%load_ext tensorboard"
      ]
    },
    {
      "cell_type": "code",
      "execution_count": 2,
      "metadata": {
        "colab": {
          "base_uri": "https://localhost:8080/"
        },
        "id": "Qm5cxnKuAyAw",
        "outputId": "ee316bac-46b4-4a62-edaf-95e5c3e6b6fc"
      },
      "outputs": [
        {
          "name": "stdout",
          "output_type": "stream",
          "text": [
            "\u001b[2K     \u001b[90m━━━━━━━━━━━━━━━━━━━━━━━━━━━━━━━━━━━━━━━━\u001b[0m \u001b[32m211.2/211.2 kB\u001b[0m \u001b[31m3.0 MB/s\u001b[0m eta \u001b[36m0:00:00\u001b[0m\n",
            "\u001b[2K     \u001b[90m━━━━━━━━━━━━━━━━━━━━━━━━━━━━━━━━━━━━━━━━\u001b[0m \u001b[32m19.7/19.7 MB\u001b[0m \u001b[31m17.4 MB/s\u001b[0m eta \u001b[36m0:00:00\u001b[0m\n",
            "\u001b[?25h  Preparing metadata (setup.py) ... \u001b[?25l\u001b[?25hdone\n",
            "\u001b[2K     \u001b[90m━━━━━━━━━━━━━━━━━━━━━━━━━━━━━━━━━━━━━━━━\u001b[0m \u001b[32m71.5/71.5 kB\u001b[0m \u001b[31m6.9 MB/s\u001b[0m eta \u001b[36m0:00:00\u001b[0m\n",
            "\u001b[2K     \u001b[90m━━━━━━━━━━━━━━━━━━━━━━━━━━━━━━━━━━━━━━━━\u001b[0m \u001b[32m195.4/195.4 kB\u001b[0m \u001b[31m10.2 MB/s\u001b[0m eta \u001b[36m0:00:00\u001b[0m\n",
            "\u001b[2K     \u001b[90m━━━━━━━━━━━━━━━━━━━━━━━━━━━━━━━━━━━━━━━━\u001b[0m \u001b[32m238.4/238.4 kB\u001b[0m \u001b[31m16.3 MB/s\u001b[0m eta \u001b[36m0:00:00\u001b[0m\n",
            "\u001b[2K     \u001b[90m━━━━━━━━━━━━━━━━━━━━━━━━━━━━━━━━━━━━━━━━\u001b[0m \u001b[32m74.0/74.0 kB\u001b[0m \u001b[31m6.1 MB/s\u001b[0m eta \u001b[36m0:00:00\u001b[0m\n",
            "\u001b[2K     \u001b[90m━━━━━━━━━━━━━━━━━━━━━━━━━━━━━━━━━━━━━━━━\u001b[0m \u001b[32m139.3/139.3 kB\u001b[0m \u001b[31m12.2 MB/s\u001b[0m eta \u001b[36m0:00:00\u001b[0m\n",
            "\u001b[2K     \u001b[90m━━━━━━━━━━━━━━━━━━━━━━━━━━━━━━━━━━━━━━━━\u001b[0m \u001b[32m233.4/233.4 kB\u001b[0m \u001b[31m16.3 MB/s\u001b[0m eta \u001b[36m0:00:00\u001b[0m\n",
            "\u001b[2K     \u001b[90m━━━━━━━━━━━━━━━━━━━━━━━━━━━━━━━━━━━━━━━━\u001b[0m \u001b[32m147.6/147.6 kB\u001b[0m \u001b[31m6.3 MB/s\u001b[0m eta \u001b[36m0:00:00\u001b[0m\n",
            "\u001b[2K     \u001b[90m━━━━━━━━━━━━━━━━━━━━━━━━━━━━━━━━━━━━━━━━\u001b[0m \u001b[32m128.2/128.2 kB\u001b[0m \u001b[31m8.4 MB/s\u001b[0m eta \u001b[36m0:00:00\u001b[0m\n",
            "\u001b[2K     \u001b[90m━━━━━━━━━━━━━━━━━━━━━━━━━━━━━━━━━━━━━━━━\u001b[0m \u001b[32m80.2/80.2 kB\u001b[0m \u001b[31m7.5 MB/s\u001b[0m eta \u001b[36m0:00:00\u001b[0m\n",
            "\u001b[2K     \u001b[90m━━━━━━━━━━━━━━━━━━━━━━━━━━━━━━━━━━━━━━━━\u001b[0m \u001b[32m78.7/78.7 kB\u001b[0m \u001b[31m7.7 MB/s\u001b[0m eta \u001b[36m0:00:00\u001b[0m\n",
            "\u001b[2K     \u001b[90m━━━━━━━━━━━━━━━━━━━━━━━━━━━━━━━━━━━━━━━━\u001b[0m \u001b[32m62.7/62.7 kB\u001b[0m \u001b[31m5.5 MB/s\u001b[0m eta \u001b[36m0:00:00\u001b[0m\n",
            "\u001b[2K     \u001b[90m━━━━━━━━━━━━━━━━━━━━━━━━━━━━━━━━━━━━━━━━\u001b[0m \u001b[32m202.9/202.9 kB\u001b[0m \u001b[31m17.4 MB/s\u001b[0m eta \u001b[36m0:00:00\u001b[0m\n",
            "\u001b[2K     \u001b[90m━━━━━━━━━━━━━━━━━━━━━━━━━━━━━━━━━━━━━━━━\u001b[0m \u001b[32m52.8/52.8 kB\u001b[0m \u001b[31m2.9 MB/s\u001b[0m eta \u001b[36m0:00:00\u001b[0m\n",
            "\u001b[2K     \u001b[90m━━━━━━━━━━━━━━━━━━━━━━━━━━━━━━━━━━━━━━━━\u001b[0m \u001b[32m69.6/69.6 kB\u001b[0m \u001b[31m6.0 MB/s\u001b[0m eta \u001b[36m0:00:00\u001b[0m\n",
            "\u001b[2K     \u001b[90m━━━━━━━━━━━━━━━━━━━━━━━━━━━━━━━━━━━━━━━━\u001b[0m \u001b[32m51.1/51.1 kB\u001b[0m \u001b[31m5.4 MB/s\u001b[0m eta \u001b[36m0:00:00\u001b[0m\n",
            "\u001b[2K     \u001b[90m━━━━━━━━━━━━━━━━━━━━━━━━━━━━━━━━━━━━━━━━\u001b[0m \u001b[32m12.0/12.0 MB\u001b[0m \u001b[31m55.1 MB/s\u001b[0m eta \u001b[36m0:00:00\u001b[0m\n",
            "\u001b[2K     \u001b[90m━━━━━━━━━━━━━━━━━━━━━━━━━━━━━━━━━━━━━━━━\u001b[0m \u001b[32m82.1/82.1 kB\u001b[0m \u001b[31m9.4 MB/s\u001b[0m eta \u001b[36m0:00:00\u001b[0m\n",
            "\u001b[2K     \u001b[90m━━━━━━━━━━━━━━━━━━━━━━━━━━━━━━━━━━━━━━━━\u001b[0m \u001b[32m49.4/49.4 kB\u001b[0m \u001b[31m3.2 MB/s\u001b[0m eta \u001b[36m0:00:00\u001b[0m\n",
            "\u001b[2K     \u001b[90m━━━━━━━━━━━━━━━━━━━━━━━━━━━━━━━━━━━━━━━━\u001b[0m \u001b[32m54.5/54.5 kB\u001b[0m \u001b[31m6.5 MB/s\u001b[0m eta \u001b[36m0:00:00\u001b[0m\n",
            "\u001b[2K     \u001b[90m━━━━━━━━━━━━━━━━━━━━━━━━━━━━━━━━━━━━━━━━\u001b[0m \u001b[32m58.3/58.3 kB\u001b[0m \u001b[31m8.0 MB/s\u001b[0m eta \u001b[36m0:00:00\u001b[0m\n",
            "\u001b[?25h  Building wheel for fusepy (setup.py) ... \u001b[?25l\u001b[?25hdone\n"
          ]
        }
      ],
      "source": [
        "%pip install -q dagshub mlflow"
      ]
    },
    {
      "cell_type": "code",
      "execution_count": 4,
      "metadata": {
        "id": "ZLd4ZAsQVolq"
      },
      "outputs": [],
      "source": [
        "# -- General Import\n",
        "import dagshub\n",
        "import keras\n",
        "import matplotlib.pyplot as plt\n",
        "import mlflow\n",
        "import numpy as np\n",
        "import tensorflow as tf\n",
        "\n",
        "# -- Keras\n",
        "from keras.layers import Conv2D, Dense, Dropout, BatchNormalization,\\\n",
        "                         MaxPooling2D, ReLU, Rescaling\n",
        "from keras.metrics import Accuracy, F1Score, Precision, Recall,\\\n",
        "                          TopKCategoricalAccuracy\n",
        "from keras.models import Sequential\n",
        "from keras.optimizers import Adam\n",
        "from keras.preprocessing import image\n",
        "from keras.preprocessing.image import ImageDataGenerator\n",
        "from keras.utils import image_dataset_from_directory, to_categorical\n",
        "\n",
        "# -- Other\n",
        "from sklearn.metrics import classification_report, confusion_matrix"
      ]
    },
    {
      "cell_type": "code",
      "execution_count": 5,
      "metadata": {
        "colab": {
          "base_uri": "https://localhost:8080/",
          "height": 193,
          "referenced_widgets": [
            "6c97f5c1b55e429aad9ace255d2a339a",
            "0d04b0bd368f40ecb0d1dcceb33fed67"
          ]
        },
        "id": "7wCKnNjoBkyC",
        "outputId": "748db009-d9d9-457b-a7fa-c23b2bfe7956"
      },
      "outputs": [
        {
          "data": {
            "text/html": [
              "<pre style=\"white-space:pre;overflow-x:auto;line-height:normal;font-family:Menlo,'DejaVu Sans Mono',consolas,'Courier New',monospace\">                                       <span style=\"font-weight: bold\">❗❗❗ AUTHORIZATION REQUIRED ❗❗❗</span>                                        \n",
              "</pre>\n"
            ],
            "text/plain": [
              "                                       \u001b[1m❗❗❗ AUTHORIZATION REQUIRED ❗❗❗\u001b[0m                                        \n"
            ]
          },
          "metadata": {},
          "output_type": "display_data"
        },
        {
          "name": "stdout",
          "output_type": "stream",
          "text": [
            "\n",
            "\n",
            "Open the following link in your browser to authorize the client:\n",
            "https://dagshub.com/login/oauth/authorize?state=454466d9-ab2d-47dd-94a3-bb5f9f26ff5f&client_id=32b60ba385aa7cecf24046d8195a71c07dd345d9657977863b52e7748e0f0f28&middleman_request_id=64890c2d2cd78a571d5c9e8737e3ef7400d82a4d1e576b1493f06da29aeb77fc\n",
            "\n",
            "\n"
          ]
        },
        {
          "data": {
            "application/vnd.jupyter.widget-view+json": {
              "model_id": "6c97f5c1b55e429aad9ace255d2a339a",
              "version_major": 2,
              "version_minor": 0
            },
            "text/plain": [
              "Output()"
            ]
          },
          "metadata": {},
          "output_type": "display_data"
        },
        {
          "data": {
            "text/html": [
              "<pre style=\"white-space:pre;overflow-x:auto;line-height:normal;font-family:Menlo,'DejaVu Sans Mono',consolas,'Courier New',monospace\"></pre>\n"
            ],
            "text/plain": []
          },
          "metadata": {},
          "output_type": "display_data"
        },
        {
          "data": {
            "text/html": [
              "<pre style=\"white-space:pre;overflow-x:auto;line-height:normal;font-family:Menlo,'DejaVu Sans Mono',consolas,'Courier New',monospace\">Initialized MLflow to track repo <span style=\"color: #008000; text-decoration-color: #008000\">\"CharleyDL/neo_aissyr\"</span>\n",
              "</pre>\n"
            ],
            "text/plain": [
              "Initialized MLflow to track repo \u001b[32m\"CharleyDL/neo_aissyr\"\u001b[0m\n"
            ]
          },
          "metadata": {},
          "output_type": "display_data"
        },
        {
          "data": {
            "text/html": [
              "<pre style=\"white-space:pre;overflow-x:auto;line-height:normal;font-family:Menlo,'DejaVu Sans Mono',consolas,'Courier New',monospace\">Repository CharleyDL/neo_aissyr initialized!\n",
              "</pre>\n"
            ],
            "text/plain": [
              "Repository CharleyDL/neo_aissyr initialized!\n"
            ]
          },
          "metadata": {},
          "output_type": "display_data"
        }
      ],
      "source": [
        "## - Prepare Dagshub and MLFlow tracking\n",
        "dagshub.init(repo_owner='CharleyDL', repo_name='neo_aissyr', mlflow=True)"
      ]
    },
    {
      "cell_type": "markdown",
      "metadata": {
        "id": "pf1K4PwUXd8m"
      },
      "source": [
        "# -- LOADING DATASET"
      ]
    },
    {
      "cell_type": "code",
      "execution_count": 6,
      "metadata": {
        "colab": {
          "base_uri": "https://localhost:8080/"
        },
        "id": "54QfqAnyW0iW",
        "outputId": "bfe45408-956d-4d5c-c9a5-4faa0fece6f7"
      },
      "outputs": [
        {
          "name": "stdout",
          "output_type": "stream",
          "text": [
            "Found 7876 files belonging to 284 classes.\n",
            "Using 6301 files for training.\n",
            "Using 1575 files for validation.\n"
          ]
        }
      ],
      "source": [
        "directory_full = \"/content/drive/MyDrive/projet_Assyr/training_data/glyphs_image\"\n",
        "\n",
        "full_ds = image_dataset_from_directory(\n",
        "    directory_full,\n",
        "    labels='inferred',\n",
        "    label_mode='categorical',\n",
        "    # class_names='inferred',\n",
        "\n",
        "    subset='both',\n",
        "    validation_split=0.2,\n",
        "\n",
        "    image_size=(30,30),\n",
        "    batch_size=64,\n",
        "    color_mode='grayscale',\n",
        "\n",
        "    seed=42\n",
        ")"
      ]
    },
    {
      "cell_type": "code",
      "execution_count": 7,
      "metadata": {
        "colab": {
          "base_uri": "https://localhost:8080/"
        },
        "id": "AunhRo7HF5RC",
        "outputId": "b4d3163e-941b-4023-c09d-d2e31ca17f43"
      },
      "outputs": [
        {
          "data": {
            "text/plain": [
              "284"
            ]
          },
          "execution_count": 7,
          "metadata": {},
          "output_type": "execute_result"
        }
      ],
      "source": [
        "class_names = full_ds[0].class_names\n",
        "len(class_names)"
      ]
    },
    {
      "cell_type": "markdown",
      "metadata": {
        "id": "flEzCpPUCv6P"
      },
      "source": [
        "# -- VISUALIZATION DATA"
      ]
    },
    {
      "cell_type": "markdown",
      "metadata": {
        "id": "XLy2RR9Gxitw"
      },
      "source": [
        "##### └── Train"
      ]
    },
    {
      "cell_type": "code",
      "execution_count": null,
      "metadata": {
        "id": "Nq8Qo8cBC0bY"
      },
      "outputs": [],
      "source": [
        "plt.figure(figsize=(10, 10))\n",
        "\n",
        "for images, labels in full_ds[0].take(1):\n",
        "    ## - convert one-hot encoder label to integer label\n",
        "    integer_labels = np.argmax(labels, axis=1)\n",
        "\n",
        "    for i in range(9):\n",
        "        ax = plt.subplot(3, 3, i + 1)\n",
        "        plt.title(class_names[integer_labels[i]])\n",
        "        plt.axis(\"off\")\n",
        "        plt.imshow(images[i].numpy().astype(\"uint8\"))"
      ]
    },
    {
      "cell_type": "markdown",
      "metadata": {
        "id": "QlhBhGJsxp-y"
      },
      "source": [
        "##### └── Validation"
      ]
    },
    {
      "cell_type": "code",
      "execution_count": null,
      "metadata": {
        "id": "i0dJYkVAxaUy"
      },
      "outputs": [],
      "source": [
        "plt.figure(figsize=(10, 10))\n",
        "\n",
        "for images, labels in full_ds[1].take(1):\n",
        "    ## - convert one-hot encoder label to integer label\n",
        "    integer_labels = np.argmax(labels, axis=1)\n",
        "\n",
        "    for i in range(9):\n",
        "        ax = plt.subplot(3, 3, i + 1)\n",
        "        plt.title(class_names[integer_labels[i]])\n",
        "        plt.axis(\"off\")\n",
        "        plt.imshow(images[i].numpy().astype(\"uint8\"))"
      ]
    },
    {
      "cell_type": "markdown",
      "metadata": {
        "id": "FKkdStttG0VS"
      },
      "source": [
        "# -- PREPROCESSING DATA"
      ]
    },
    {
      "cell_type": "code",
      "execution_count": null,
      "metadata": {
        "id": "uMOvv5L1HQ56"
      },
      "outputs": [],
      "source": [
        "## - Normalization\n",
        "full_ds[0] = full_ds[0].map(lambda x, y: (Rescaling(1./255)(x), y)) # train\n",
        "full_ds[1] = full_ds[1].map(lambda x, y: (Rescaling(1./255)(x), y)) # test\n",
        "\n",
        "## - Check the normalization\n",
        "print(\"Train Set:\")\n",
        "for image, label in full_ds[0].take(1):\n",
        "    print(\"Minimum pixel value:\", tf.reduce_min(image))\n",
        "    print(\"Maximum pixel value:\", tf.reduce_max(image))\n",
        "\n",
        "print(\"\\nValidation Set:\")\n",
        "for image, label in full_ds[1].take(1):\n",
        "    print(\"Minimum pixel value:\", tf.reduce_min(image))\n",
        "    print(\"Maximum pixel value:\", tf.reduce_max(image))"
      ]
    },
    {
      "cell_type": "code",
      "execution_count": null,
      "metadata": {
        "id": "1ePqboTKG6-K"
      },
      "outputs": [],
      "source": [
        "## - Buffered Prefetching\n",
        "AUTOTUNE = tf.data.AUTOTUNE\n",
        "\n",
        "full_ds[0] = full_ds[0].cache().prefetch(buffer_size=AUTOTUNE)\n",
        "full_ds[1] = full_ds[1].cache().prefetch(buffer_size=AUTOTUNE)"
      ]
    },
    {
      "cell_type": "markdown",
      "metadata": {
        "id": "Wuz3_Dijvsat"
      },
      "source": [
        "# -- DATA AUGMENTATION\n",
        "-> compenser le déséquilibre des classes avec peu de données"
      ]
    },
    {
      "cell_type": "code",
      "execution_count": null,
      "metadata": {
        "id": "1meWP8Wuv-np"
      },
      "outputs": [],
      "source": [
        "## Data Aug"
      ]
    },
    {
      "cell_type": "markdown",
      "metadata": {
        "id": "cIVsM57HaAha"
      },
      "source": [
        "# -- MODEL 8C2F"
      ]
    },
    {
      "cell_type": "code",
      "execution_count": null,
      "metadata": {
        "id": "U73-0CrvaE39"
      },
      "outputs": [],
      "source": [
        "model_8c2f = tf.keras.models.Sequential([\n",
        "    ## - First Block\n",
        "    tf.keras.layers.Conv2D(32, kernel_size=(3, 3), strides=2,\n",
        "                           padding='same', input_shape=(30, 30, 1)),\n",
        "    tf.keras.layers.BatchNormalization(),\n",
        "\n",
        "    tf.keras.layers.Conv2D(32, kernel_size=(3, 3), strides=2,\n",
        "                           padding='same', input_shape=(30, 30, 1)),\n",
        "    tf.keras.layers.BatchNormalization(),\n",
        "\n",
        "    tf.keras.layers.ReLU(),\n",
        "    tf.keras.layers.MaxPool2D(pool_size=(2, 2), strides=2, padding='same'),\n",
        "    tf.keras.layers.Dropout(0.5),\n",
        "\n",
        "    ## - Second Block\n",
        "    tf.keras.layers.Conv2D(64, kernel_size=(3, 3), strides=2,\n",
        "                           padding='same', input_shape=(15, 15, 1)),\n",
        "    tf.keras.layers.BatchNormalization(),\n",
        "\n",
        "    tf.keras.layers.Conv2D(64, kernel_size=(3, 3), strides=2,\n",
        "                           padding='same', input_shape=(15, 15, 1)),\n",
        "    tf.keras.layers.BatchNormalization(),\n",
        "\n",
        "    tf.keras.layers.Conv2D(64, kernel_size=(3, 3), strides=2,\n",
        "                           padding='same', input_shape=(15, 15, 1)),\n",
        "    tf.keras.layers.BatchNormalization(),\n",
        "\n",
        "    tf.keras.layers.ReLU(),\n",
        "    tf.keras.layers.MaxPool2D(pool_size=(2, 2), strides=2, padding='same'),\n",
        "    tf.keras.layers.Dropout(0.5),\n",
        "\n",
        "    ## - Third Block\n",
        "    tf.keras.layers.Conv2D(128, kernel_size=(3, 3), strides=2,\n",
        "                           padding='same', input_shape=(8, 8, 1)),\n",
        "    tf.keras.layers.BatchNormalization(),\n",
        "\n",
        "    tf.keras.layers.Conv2D(128, kernel_size=(3, 3), strides=2,\n",
        "                           padding='same', input_shape=(8, 8, 1)),\n",
        "    tf.keras.layers.BatchNormalization(),\n",
        "\n",
        "    tf.keras.layers.Conv2D(128, kernel_size=(3, 3), strides=2,\n",
        "                           padding='same', input_shape=(8, 8, 1)),\n",
        "    tf.keras.layers.BatchNormalization(),\n",
        "\n",
        "    tf.keras.layers.ReLU(),\n",
        "    tf.keras.layers.MaxPool2D(pool_size=(2, 2), strides=2, padding='same'),\n",
        "    tf.keras.layers.Dropout(0.5),\n",
        "\n",
        "    ## - Full Connected\n",
        "    tf.keras.layers.Flatten(),\n",
        "    tf.keras.layers.Dense(1024, activation='relu'),\n",
        "    tf.keras.layers.Dense(len(class_names), activation='softmax')\n",
        "])"
      ]
    },
    {
      "cell_type": "code",
      "execution_count": null,
      "metadata": {
        "id": "4w50697FhB9A"
      },
      "outputs": [],
      "source": [
        "top3 = TopKCategoricalAccuracy(k=3, name=\"top3\")\n",
        "top5 = TopKCategoricalAccuracy(k=5, name=\"top5\")\n",
        "\n",
        "model_8c2f.compile(\n",
        "    optimizer='adam',\n",
        "    loss='categorical_crossentropy',\n",
        "    metrics=[Accuracy(), F1Score(), Precision(), Recall(), top3, top5]\n",
        ")"
      ]
    },
    {
      "cell_type": "code",
      "execution_count": null,
      "metadata": {
        "id": "bjXXIaJjl58U"
      },
      "outputs": [],
      "source": [
        "model_8c2f.summary()"
      ]
    },
    {
      "cell_type": "markdown",
      "metadata": {
        "id": "IJ0lcbuusW0z"
      },
      "source": [
        "# -- TensorBoard"
      ]
    },
    {
      "cell_type": "code",
      "execution_count": null,
      "metadata": {
        "id": "VUdieinnsVqC"
      },
      "outputs": [],
      "source": [
        "%tensorboard --logdir logs"
      ]
    },
    {
      "cell_type": "markdown",
      "metadata": {
        "id": "5R1cZKN8tWMk"
      },
      "source": [
        "# -- Training"
      ]
    },
    {
      "cell_type": "markdown",
      "metadata": {
        "id": "OY8oJxK9tY7U"
      },
      "source": [
        "### V1 8C2F\n",
        "- No data augmentation\n",
        "- No batch_size"
      ]
    },
    {
      "cell_type": "code",
      "execution_count": null,
      "metadata": {
        "id": "Uaa_BWSUmSN1"
      },
      "outputs": [],
      "source": [
        "mlflow.tensorflow.autolog(log_every_epoch=True,\n",
        "                          registered_model_name='model_8c2f_v1')\n",
        "\n",
        "model_8c2f.fit(\n",
        "    full_ds[0],\n",
        "    epochs=100,\n",
        "    validation_data=full_ds[1]\n",
        ")"
      ]
    }
  ],
  "metadata": {
    "accelerator": "GPU",
    "colab": {
      "collapsed_sections": [
        "Wuz3_Dijvsat"
      ],
      "gpuType": "T4",
      "provenance": []
    },
    "kernelspec": {
      "display_name": "Python 3",
      "name": "python3"
    },
    "language_info": {
      "name": "python"
    },
    "widgets": {
      "application/vnd.jupyter.widget-state+json": {
        "0d04b0bd368f40ecb0d1dcceb33fed67": {
          "model_module": "@jupyter-widgets/base",
          "model_module_version": "1.2.0",
          "model_name": "LayoutModel",
          "state": {
            "_model_module": "@jupyter-widgets/base",
            "_model_module_version": "1.2.0",
            "_model_name": "LayoutModel",
            "_view_count": null,
            "_view_module": "@jupyter-widgets/base",
            "_view_module_version": "1.2.0",
            "_view_name": "LayoutView",
            "align_content": null,
            "align_items": null,
            "align_self": null,
            "border": null,
            "bottom": null,
            "display": null,
            "flex": null,
            "flex_flow": null,
            "grid_area": null,
            "grid_auto_columns": null,
            "grid_auto_flow": null,
            "grid_auto_rows": null,
            "grid_column": null,
            "grid_gap": null,
            "grid_row": null,
            "grid_template_areas": null,
            "grid_template_columns": null,
            "grid_template_rows": null,
            "height": null,
            "justify_content": null,
            "justify_items": null,
            "left": null,
            "margin": null,
            "max_height": null,
            "max_width": null,
            "min_height": null,
            "min_width": null,
            "object_fit": null,
            "object_position": null,
            "order": null,
            "overflow": null,
            "overflow_x": null,
            "overflow_y": null,
            "padding": null,
            "right": null,
            "top": null,
            "visibility": null,
            "width": null
          }
        },
        "6c97f5c1b55e429aad9ace255d2a339a": {
          "model_module": "@jupyter-widgets/output",
          "model_module_version": "1.0.0",
          "model_name": "OutputModel",
          "state": {
            "_dom_classes": [],
            "_model_module": "@jupyter-widgets/output",
            "_model_module_version": "1.0.0",
            "_model_name": "OutputModel",
            "_view_count": null,
            "_view_module": "@jupyter-widgets/output",
            "_view_module_version": "1.0.0",
            "_view_name": "OutputView",
            "layout": "IPY_MODEL_0d04b0bd368f40ecb0d1dcceb33fed67",
            "msg_id": "",
            "outputs": [
              {
                "data": {
                  "text/html": "<pre style=\"white-space:pre;overflow-x:auto;line-height:normal;font-family:Menlo,'DejaVu Sans Mono',consolas,'Courier New',monospace\"><span style=\"color: #008000; text-decoration-color: #008000\">⠼</span> Waiting for authorization\n</pre>\n",
                  "text/plain": "\u001b[32m⠼\u001b[0m Waiting for authorization\n"
                },
                "metadata": {},
                "output_type": "display_data"
              }
            ]
          }
        }
      }
    }
  },
  "nbformat": 4,
  "nbformat_minor": 0
}
