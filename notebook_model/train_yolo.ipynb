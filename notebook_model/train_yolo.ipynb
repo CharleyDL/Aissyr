{
 "cells": [
  {
   "cell_type": "code",
   "execution_count": 1,
   "metadata": {},
   "outputs": [
    {
     "name": "stderr",
     "output_type": "stream",
     "text": [
      "YOLOv5 🚀 v7.0-284-g95ebf68f Python-3.11.1 torch-2.2.0 CPU\n"
     ]
    },
    {
     "name": "stdout",
     "output_type": "stream",
     "text": [
      "Setup complete ✅ (16 CPUs, 16.0 GB RAM, 302.1/465.6 GB disk)\n"
     ]
    }
   ],
   "source": [
    "!git clone https://github.com/ultralytics/yolov5  # clone\n",
    "%cd yolov5\n",
    "%pip install -qr requirements.txt  # install\n",
    "\n",
    "import torch\n",
    "import utils\n",
    "display = utils.notebook_init()  # checks"
   ]
  },
  {
   "cell_type": "code",
   "execution_count": 2,
   "metadata": {},
   "outputs": [],
   "source": [
    "import cv2\n",
    "import numpy as np\n",
    "\n",
    "from IPython.display import display, Image\n",
    "from ultralytics import YOLO"
   ]
  },
  {
   "cell_type": "code",
   "execution_count": 9,
   "metadata": {},
   "outputs": [
    {
     "name": "stdout",
     "output_type": "stream",
     "text": [
      "PRO TIP 💡 Replace 'model=yolov5x.pt' with new 'model=yolov5xu.pt'.\n",
      "YOLOv5 'u' models are trained with https://github.com/ultralytics/ultralytics and feature improved performance vs standard YOLOv5 models trained with https://github.com/ultralytics/yolov5.\n",
      "\n",
      "Ultralytics YOLOv8.1.11 🚀 Python-3.11.1 torch-2.2.0 CPU (Intel Core(TM) i9-9880H 2.30GHz)\n",
      "\u001b[34m\u001b[1mengine/trainer: \u001b[0mtask=detect, mode=train, model=yolov5x.pt, data=/Users/charley.dlebarbier/Documents/Dev/VSCode/Projects/projet_NeoAIssyr/notebook_model/data/yolo_data/custom.yaml, epochs=50, time=None, patience=50, batch=20, imgsz=640, save=True, save_period=-1, cache=False, device=None, workers=8, project=None, name=train7, exist_ok=False, pretrained=True, optimizer=auto, verbose=True, seed=0, deterministic=True, single_cls=False, rect=False, cos_lr=False, close_mosaic=10, resume=False, amp=True, fraction=1.0, profile=False, freeze=None, multi_scale=False, overlap_mask=True, mask_ratio=4, dropout=0.0, val=True, split=val, save_json=False, save_hybrid=False, conf=None, iou=0.7, max_det=300, half=False, dnn=False, plots=True, source=None, vid_stride=1, stream_buffer=False, visualize=False, augment=False, agnostic_nms=False, classes=None, retina_masks=False, embed=None, show=False, save_frames=False, save_txt=False, save_conf=False, save_crop=False, show_labels=True, show_conf=True, show_boxes=True, line_width=None, format=torchscript, keras=False, optimize=False, int8=False, dynamic=False, simplify=False, opset=None, workspace=4, nms=False, lr0=0.01, lrf=0.01, momentum=0.937, weight_decay=0.0005, warmup_epochs=3.0, warmup_momentum=0.8, warmup_bias_lr=0.1, box=7.5, cls=0.5, dfl=1.5, pose=12.0, kobj=1.0, label_smoothing=0.0, nbs=64, hsv_h=0.015, hsv_s=0.7, hsv_v=0.4, degrees=0.0, translate=0.1, scale=0.5, shear=0.0, perspective=0.0, flipud=0.0, fliplr=0.5, mosaic=1.0, mixup=0.0, copy_paste=0.0, auto_augment=randaugment, erasing=0.4, crop_fraction=1.0, cfg=None, tracker=botsort.yaml, save_dir=/Users/charley.dlebarbier/Documents/Dev/VSCode/Projects/projet_NeoAIssyr/runs/detect/train7\n",
      "Overriding model.yaml nc=80 with nc=284\n",
      "\n",
      "                   from  n    params  module                                       arguments                     \n",
      "  0                  -1  1      8800  ultralytics.nn.modules.conv.Conv             [3, 80, 6, 2, 2]              \n",
      "  1                  -1  1    115520  ultralytics.nn.modules.conv.Conv             [80, 160, 3, 2]               \n",
      "  2                  -1  4    309120  ultralytics.nn.modules.block.C3              [160, 160, 4]                 \n",
      "  3                  -1  1    461440  ultralytics.nn.modules.conv.Conv             [160, 320, 3, 2]              \n",
      "  4                  -1  8   2259200  ultralytics.nn.modules.block.C3              [320, 320, 8]                 \n",
      "  5                  -1  1   1844480  ultralytics.nn.modules.conv.Conv             [320, 640, 3, 2]              \n",
      "  6                  -1 12  13125120  ultralytics.nn.modules.block.C3              [640, 640, 12]                \n",
      "  7                  -1  1   7375360  ultralytics.nn.modules.conv.Conv             [640, 1280, 3, 2]             \n",
      "  8                  -1  4  19676160  ultralytics.nn.modules.block.C3              [1280, 1280, 4]               \n",
      "  9                  -1  1   4099840  ultralytics.nn.modules.block.SPPF            [1280, 1280, 5]               \n",
      " 10                  -1  1    820480  ultralytics.nn.modules.conv.Conv             [1280, 640, 1, 1]             \n",
      " 11                  -1  1         0  torch.nn.modules.upsampling.Upsample         [None, 2, 'nearest']          \n",
      " 12             [-1, 6]  1         0  ultralytics.nn.modules.conv.Concat           [1]                           \n",
      " 13                  -1  4   5332480  ultralytics.nn.modules.block.C3              [1280, 640, 4, False]         \n",
      " 14                  -1  1    205440  ultralytics.nn.modules.conv.Conv             [640, 320, 1, 1]              \n",
      " 15                  -1  1         0  torch.nn.modules.upsampling.Upsample         [None, 2, 'nearest']          \n",
      " 16             [-1, 4]  1         0  ultralytics.nn.modules.conv.Concat           [1]                           \n",
      " 17                  -1  4   1335040  ultralytics.nn.modules.block.C3              [640, 320, 4, False]          \n",
      " 18                  -1  1    922240  ultralytics.nn.modules.conv.Conv             [320, 320, 3, 2]              \n",
      " 19            [-1, 14]  1         0  ultralytics.nn.modules.conv.Concat           [1]                           \n",
      " 20                  -1  4   4922880  ultralytics.nn.modules.block.C3              [640, 640, 4, False]          \n",
      " 21                  -1  1   3687680  ultralytics.nn.modules.conv.Conv             [640, 640, 3, 2]              \n",
      " 22            [-1, 10]  1         0  ultralytics.nn.modules.conv.Concat           [1]                           \n",
      " 23                  -1  4  19676160  ultralytics.nn.modules.block.C3              [1280, 1280, 4, False]        \n",
      " 24        [17, 20, 23]  1  11295460  ultralytics.nn.modules.head.Detect           [284, [320, 640, 1280]]       \n",
      "YOLOv5x summary: 493 layers, 97472900 parameters, 97472884 gradients, 248.4 GFLOPs\n",
      "\n",
      "Transferred 817/823 items from pretrained weights\n",
      "Freezing layer 'model.24.dfl.conv.weight'\n"
     ]
    },
    {
     "name": "stderr",
     "output_type": "stream",
     "text": [
      "\u001b[34m\u001b[1mtrain: \u001b[0mScanning /Users/charley.dlebarbier/Documents/Dev/VSCode/Projects/projet_NeoAIssyr/notebook_model/data/yolo_data/train/labels... 66 images, 0 backgrounds, 0 corrupt: 100%|██████████| 66/66 [00:00<00:00, 710.40it/s]"
     ]
    },
    {
     "name": "stdout",
     "output_type": "stream",
     "text": [
      "\u001b[34m\u001b[1mtrain: \u001b[0mWARNING ⚠️ /Users/charley.dlebarbier/Documents/Dev/VSCode/Projects/projet_NeoAIssyr/notebook_model/data/yolo_data/train/images/K01057_o.jpg: 39 duplicate labels removed\n",
      "\u001b[34m\u001b[1mtrain: \u001b[0mWARNING ⚠️ /Users/charley.dlebarbier/Documents/Dev/VSCode/Projects/projet_NeoAIssyr/notebook_model/data/yolo_data/train/images/K01057_r.jpg: 10 duplicate labels removed\n",
      "\u001b[34m\u001b[1mtrain: \u001b[0mWARNING ⚠️ /Users/charley.dlebarbier/Documents/Dev/VSCode/Projects/projet_NeoAIssyr/notebook_model/data/yolo_data/train/images/P239304_o.jpg: 5 duplicate labels removed\n",
      "\u001b[34m\u001b[1mtrain: \u001b[0mWARNING ⚠️ /Users/charley.dlebarbier/Documents/Dev/VSCode/Projects/projet_NeoAIssyr/notebook_model/data/yolo_data/train/images/P313634_r.jpg: 55 duplicate labels removed\n",
      "\u001b[34m\u001b[1mtrain: \u001b[0mWARNING ⚠️ /Users/charley.dlebarbier/Documents/Dev/VSCode/Projects/projet_NeoAIssyr/notebook_model/data/yolo_data/train/images/P314346_o.jpg: 39 duplicate labels removed\n",
      "\u001b[34m\u001b[1mtrain: \u001b[0mWARNING ⚠️ /Users/charley.dlebarbier/Documents/Dev/VSCode/Projects/projet_NeoAIssyr/notebook_model/data/yolo_data/train/images/P314355_o.jpg: 9 duplicate labels removed\n",
      "\u001b[34m\u001b[1mtrain: \u001b[0mWARNING ⚠️ /Users/charley.dlebarbier/Documents/Dev/VSCode/Projects/projet_NeoAIssyr/notebook_model/data/yolo_data/train/images/P314355_r.jpg: 26 duplicate labels removed\n",
      "\u001b[34m\u001b[1mtrain: \u001b[0mWARNING ⚠️ /Users/charley.dlebarbier/Documents/Dev/VSCode/Projects/projet_NeoAIssyr/notebook_model/data/yolo_data/train/images/P333952_o.jpg: 691 duplicate labels removed\n",
      "\u001b[34m\u001b[1mtrain: \u001b[0mWARNING ⚠️ /Users/charley.dlebarbier/Documents/Dev/VSCode/Projects/projet_NeoAIssyr/notebook_model/data/yolo_data/train/images/P334311_o.jpg: 100 duplicate labels removed\n",
      "\u001b[34m\u001b[1mtrain: \u001b[0mWARNING ⚠️ /Users/charley.dlebarbier/Documents/Dev/VSCode/Projects/projet_NeoAIssyr/notebook_model/data/yolo_data/train/images/P334311_r.jpg: 88 duplicate labels removed\n",
      "\u001b[34m\u001b[1mtrain: \u001b[0mWARNING ⚠️ /Users/charley.dlebarbier/Documents/Dev/VSCode/Projects/projet_NeoAIssyr/notebook_model/data/yolo_data/train/images/P334357_o.jpg: 70 duplicate labels removed\n",
      "\u001b[34m\u001b[1mtrain: \u001b[0mWARNING ⚠️ /Users/charley.dlebarbier/Documents/Dev/VSCode/Projects/projet_NeoAIssyr/notebook_model/data/yolo_data/train/images/P334357_r.jpg: 17 duplicate labels removed\n",
      "\u001b[34m\u001b[1mtrain: \u001b[0mWARNING ⚠️ /Users/charley.dlebarbier/Documents/Dev/VSCode/Projects/projet_NeoAIssyr/notebook_model/data/yolo_data/train/images/P334828_o.jpg: 54 duplicate labels removed\n",
      "\u001b[34m\u001b[1mtrain: \u001b[0mWARNING ⚠️ /Users/charley.dlebarbier/Documents/Dev/VSCode/Projects/projet_NeoAIssyr/notebook_model/data/yolo_data/train/images/P334828_r.jpg: 19 duplicate labels removed\n",
      "\u001b[34m\u001b[1mtrain: \u001b[0mWARNING ⚠️ /Users/charley.dlebarbier/Documents/Dev/VSCode/Projects/projet_NeoAIssyr/notebook_model/data/yolo_data/train/images/P334831_o.jpg: 64 duplicate labels removed\n",
      "\u001b[34m\u001b[1mtrain: \u001b[0mWARNING ⚠️ /Users/charley.dlebarbier/Documents/Dev/VSCode/Projects/projet_NeoAIssyr/notebook_model/data/yolo_data/train/images/P334831_r.jpg: 33 duplicate labels removed\n",
      "\u001b[34m\u001b[1mtrain: \u001b[0mWARNING ⚠️ /Users/charley.dlebarbier/Documents/Dev/VSCode/Projects/projet_NeoAIssyr/notebook_model/data/yolo_data/train/images/P334836_r.jpg: 50 duplicate labels removed\n",
      "\u001b[34m\u001b[1mtrain: \u001b[0mWARNING ⚠️ /Users/charley.dlebarbier/Documents/Dev/VSCode/Projects/projet_NeoAIssyr/notebook_model/data/yolo_data/train/images/P334839_o.jpg: 24 duplicate labels removed\n",
      "\u001b[34m\u001b[1mtrain: \u001b[0mWARNING ⚠️ /Users/charley.dlebarbier/Documents/Dev/VSCode/Projects/projet_NeoAIssyr/notebook_model/data/yolo_data/train/images/P334842_o.jpg: 28 duplicate labels removed\n",
      "\u001b[34m\u001b[1mtrain: \u001b[0mWARNING ⚠️ /Users/charley.dlebarbier/Documents/Dev/VSCode/Projects/projet_NeoAIssyr/notebook_model/data/yolo_data/train/images/P334848_o.jpg: 23 duplicate labels removed\n",
      "\u001b[34m\u001b[1mtrain: \u001b[0mWARNING ⚠️ /Users/charley.dlebarbier/Documents/Dev/VSCode/Projects/projet_NeoAIssyr/notebook_model/data/yolo_data/train/images/P334848_r.jpg: 18 duplicate labels removed\n",
      "\u001b[34m\u001b[1mtrain: \u001b[0mWARNING ⚠️ /Users/charley.dlebarbier/Documents/Dev/VSCode/Projects/projet_NeoAIssyr/notebook_model/data/yolo_data/train/images/P334863_o.jpg: 16 duplicate labels removed\n",
      "\u001b[34m\u001b[1mtrain: \u001b[0mWARNING ⚠️ /Users/charley.dlebarbier/Documents/Dev/VSCode/Projects/projet_NeoAIssyr/notebook_model/data/yolo_data/train/images/P334865_o.jpg: 43 duplicate labels removed\n",
      "\u001b[34m\u001b[1mtrain: \u001b[0mWARNING ⚠️ /Users/charley.dlebarbier/Documents/Dev/VSCode/Projects/projet_NeoAIssyr/notebook_model/data/yolo_data/train/images/P334865_r.jpg: 60 duplicate labels removed\n",
      "\u001b[34m\u001b[1mtrain: \u001b[0mWARNING ⚠️ /Users/charley.dlebarbier/Documents/Dev/VSCode/Projects/projet_NeoAIssyr/notebook_model/data/yolo_data/train/images/P334892_o.jpg: 20 duplicate labels removed\n",
      "\u001b[34m\u001b[1mtrain: \u001b[0mWARNING ⚠️ /Users/charley.dlebarbier/Documents/Dev/VSCode/Projects/projet_NeoAIssyr/notebook_model/data/yolo_data/train/images/P334892_r.jpg: 21 duplicate labels removed\n",
      "\u001b[34m\u001b[1mtrain: \u001b[0mWARNING ⚠️ /Users/charley.dlebarbier/Documents/Dev/VSCode/Projects/projet_NeoAIssyr/notebook_model/data/yolo_data/train/images/P334894_o.jpg: 48 duplicate labels removed\n",
      "\u001b[34m\u001b[1mtrain: \u001b[0mWARNING ⚠️ /Users/charley.dlebarbier/Documents/Dev/VSCode/Projects/projet_NeoAIssyr/notebook_model/data/yolo_data/train/images/P334894_r.jpg: 15 duplicate labels removed\n",
      "\u001b[34m\u001b[1mtrain: \u001b[0mWARNING ⚠️ /Users/charley.dlebarbier/Documents/Dev/VSCode/Projects/projet_NeoAIssyr/notebook_model/data/yolo_data/train/images/P334896_o.jpg: 29 duplicate labels removed\n",
      "\u001b[34m\u001b[1mtrain: \u001b[0mWARNING ⚠️ /Users/charley.dlebarbier/Documents/Dev/VSCode/Projects/projet_NeoAIssyr/notebook_model/data/yolo_data/train/images/P334921_o.jpg: 26 duplicate labels removed\n",
      "\u001b[34m\u001b[1mtrain: \u001b[0mWARNING ⚠️ /Users/charley.dlebarbier/Documents/Dev/VSCode/Projects/projet_NeoAIssyr/notebook_model/data/yolo_data/train/images/P334921_r.jpg: 9 duplicate labels removed\n",
      "\u001b[34m\u001b[1mtrain: \u001b[0mWARNING ⚠️ /Users/charley.dlebarbier/Documents/Dev/VSCode/Projects/projet_NeoAIssyr/notebook_model/data/yolo_data/train/images/P335598_o.jpg: 17 duplicate labels removed\n",
      "\u001b[34m\u001b[1mtrain: \u001b[0mWARNING ⚠️ /Users/charley.dlebarbier/Documents/Dev/VSCode/Projects/projet_NeoAIssyr/notebook_model/data/yolo_data/train/images/P335598_r.jpg: 1 duplicate labels removed\n",
      "\u001b[34m\u001b[1mtrain: \u001b[0mWARNING ⚠️ /Users/charley.dlebarbier/Documents/Dev/VSCode/Projects/projet_NeoAIssyr/notebook_model/data/yolo_data/train/images/P335605_o.jpg: 19 duplicate labels removed\n",
      "\u001b[34m\u001b[1mtrain: \u001b[0mWARNING ⚠️ /Users/charley.dlebarbier/Documents/Dev/VSCode/Projects/projet_NeoAIssyr/notebook_model/data/yolo_data/train/images/P335608_o.jpg: 528 duplicate labels removed\n",
      "\u001b[34m\u001b[1mtrain: \u001b[0mWARNING ⚠️ /Users/charley.dlebarbier/Documents/Dev/VSCode/Projects/projet_NeoAIssyr/notebook_model/data/yolo_data/train/images/P336178_o.jpg: 34 duplicate labels removed\n",
      "\u001b[34m\u001b[1mtrain: \u001b[0mWARNING ⚠️ /Users/charley.dlebarbier/Documents/Dev/VSCode/Projects/projet_NeoAIssyr/notebook_model/data/yolo_data/train/images/P336608_o.jpg: 28 duplicate labels removed\n",
      "\u001b[34m\u001b[1mtrain: \u001b[0mWARNING ⚠️ /Users/charley.dlebarbier/Documents/Dev/VSCode/Projects/projet_NeoAIssyr/notebook_model/data/yolo_data/train/images/P336608_r.jpg: 28 duplicate labels removed\n",
      "\u001b[34m\u001b[1mtrain: \u001b[0mWARNING ⚠️ /Users/charley.dlebarbier/Documents/Dev/VSCode/Projects/projet_NeoAIssyr/notebook_model/data/yolo_data/train/images/P336614_o.jpg: 15 duplicate labels removed\n",
      "\u001b[34m\u001b[1mtrain: \u001b[0mWARNING ⚠️ /Users/charley.dlebarbier/Documents/Dev/VSCode/Projects/projet_NeoAIssyr/notebook_model/data/yolo_data/train/images/P336614_r.jpg: 9 duplicate labels removed\n",
      "\u001b[34m\u001b[1mtrain: \u001b[0mWARNING ⚠️ /Users/charley.dlebarbier/Documents/Dev/VSCode/Projects/projet_NeoAIssyr/notebook_model/data/yolo_data/train/images/P336634_o.jpg: 36 duplicate labels removed\n",
      "\u001b[34m\u001b[1mtrain: \u001b[0mWARNING ⚠️ /Users/charley.dlebarbier/Documents/Dev/VSCode/Projects/projet_NeoAIssyr/notebook_model/data/yolo_data/train/images/P336635_o.jpg: 15 duplicate labels removed\n",
      "\u001b[34m\u001b[1mtrain: \u001b[0mWARNING ⚠️ /Users/charley.dlebarbier/Documents/Dev/VSCode/Projects/projet_NeoAIssyr/notebook_model/data/yolo_data/train/images/P336643_o.jpg: 25 duplicate labels removed\n",
      "\u001b[34m\u001b[1mtrain: \u001b[0mWARNING ⚠️ /Users/charley.dlebarbier/Documents/Dev/VSCode/Projects/projet_NeoAIssyr/notebook_model/data/yolo_data/train/images/P336651_o.jpg: 12 duplicate labels removed\n",
      "\u001b[34m\u001b[1mtrain: \u001b[0mWARNING ⚠️ /Users/charley.dlebarbier/Documents/Dev/VSCode/Projects/projet_NeoAIssyr/notebook_model/data/yolo_data/train/images/P336655_o.jpg: 28 duplicate labels removed\n",
      "\u001b[34m\u001b[1mtrain: \u001b[0mWARNING ⚠️ /Users/charley.dlebarbier/Documents/Dev/VSCode/Projects/projet_NeoAIssyr/notebook_model/data/yolo_data/train/images/P336655_r.jpg: 38 duplicate labels removed\n",
      "\u001b[34m\u001b[1mtrain: \u001b[0mWARNING ⚠️ /Users/charley.dlebarbier/Documents/Dev/VSCode/Projects/projet_NeoAIssyr/notebook_model/data/yolo_data/train/images/P336660_o.jpg: 9 duplicate labels removed\n",
      "\u001b[34m\u001b[1mtrain: \u001b[0mWARNING ⚠️ /Users/charley.dlebarbier/Documents/Dev/VSCode/Projects/projet_NeoAIssyr/notebook_model/data/yolo_data/train/images/P336670_o.jpg: 18 duplicate labels removed\n",
      "\u001b[34m\u001b[1mtrain: \u001b[0mWARNING ⚠️ /Users/charley.dlebarbier/Documents/Dev/VSCode/Projects/projet_NeoAIssyr/notebook_model/data/yolo_data/train/images/P336678_o.jpg: 23 duplicate labels removed\n",
      "\u001b[34m\u001b[1mtrain: \u001b[0mWARNING ⚠️ /Users/charley.dlebarbier/Documents/Dev/VSCode/Projects/projet_NeoAIssyr/notebook_model/data/yolo_data/train/images/P336678_r.jpg: 17 duplicate labels removed\n",
      "\u001b[34m\u001b[1mtrain: \u001b[0mWARNING ⚠️ /Users/charley.dlebarbier/Documents/Dev/VSCode/Projects/projet_NeoAIssyr/notebook_model/data/yolo_data/train/images/P336716_o.jpg: 18 duplicate labels removed\n",
      "\u001b[34m\u001b[1mtrain: \u001b[0mWARNING ⚠️ /Users/charley.dlebarbier/Documents/Dev/VSCode/Projects/projet_NeoAIssyr/notebook_model/data/yolo_data/train/images/P337153_o.jpg: 54 duplicate labels removed\n",
      "\u001b[34m\u001b[1mtrain: \u001b[0mWARNING ⚠️ /Users/charley.dlebarbier/Documents/Dev/VSCode/Projects/projet_NeoAIssyr/notebook_model/data/yolo_data/train/images/P337153_r.jpg: 22 duplicate labels removed\n",
      "\u001b[34m\u001b[1mtrain: \u001b[0mWARNING ⚠️ /Users/charley.dlebarbier/Documents/Dev/VSCode/Projects/projet_NeoAIssyr/notebook_model/data/yolo_data/train/images/P337163_o.jpg: 227 duplicate labels removed\n",
      "\u001b[34m\u001b[1mtrain: \u001b[0mWARNING ⚠️ /Users/charley.dlebarbier/Documents/Dev/VSCode/Projects/projet_NeoAIssyr/notebook_model/data/yolo_data/train/images/P337163_r.jpg: 24 duplicate labels removed\n",
      "\u001b[34m\u001b[1mtrain: \u001b[0mWARNING ⚠️ /Users/charley.dlebarbier/Documents/Dev/VSCode/Projects/projet_NeoAIssyr/notebook_model/data/yolo_data/train/images/P393668_o.jpg: 42 duplicate labels removed\n",
      "\u001b[34m\u001b[1mtrain: \u001b[0mWARNING ⚠️ /Users/charley.dlebarbier/Documents/Dev/VSCode/Projects/projet_NeoAIssyr/notebook_model/data/yolo_data/train/images/P393668_r.jpg: 32 duplicate labels removed\n",
      "\u001b[34m\u001b[1mtrain: \u001b[0mWARNING ⚠️ /Users/charley.dlebarbier/Documents/Dev/VSCode/Projects/projet_NeoAIssyr/notebook_model/data/yolo_data/train/images/P404881_o.jpg: 52 duplicate labels removed\n",
      "\u001b[34m\u001b[1mtrain: \u001b[0mWARNING ⚠️ /Users/charley.dlebarbier/Documents/Dev/VSCode/Projects/projet_NeoAIssyr/notebook_model/data/yolo_data/train/images/P404881_r.jpg: 14 duplicate labels removed\n",
      "\u001b[34m\u001b[1mtrain: \u001b[0mWARNING ⚠️ /Users/charley.dlebarbier/Documents/Dev/VSCode/Projects/projet_NeoAIssyr/notebook_model/data/yolo_data/train/images/VAT08803Rs_r.jpg: 358 duplicate labels removed\n",
      "\u001b[34m\u001b[1mtrain: \u001b[0mWARNING ⚠️ /Users/charley.dlebarbier/Documents/Dev/VSCode/Projects/projet_NeoAIssyr/notebook_model/data/yolo_data/train/images/VAT08803Vs_o.jpg: 427 duplicate labels removed\n",
      "\u001b[34m\u001b[1mtrain: \u001b[0mWARNING ⚠️ /Users/charley.dlebarbier/Documents/Dev/VSCode/Projects/projet_NeoAIssyr/notebook_model/data/yolo_data/train/images/VAT10601_r.jpg: 36 duplicate labels removed\n",
      "\u001b[34m\u001b[1mtrain: \u001b[0mWARNING ⚠️ /Users/charley.dlebarbier/Documents/Dev/VSCode/Projects/projet_NeoAIssyr/notebook_model/data/yolo_data/train/images/VAT10657_r.jpg: 68 duplicate labels removed\n",
      "\u001b[34m\u001b[1mtrain: \u001b[0mWARNING ⚠️ /Users/charley.dlebarbier/Documents/Dev/VSCode/Projects/projet_NeoAIssyr/notebook_model/data/yolo_data/train/images/VAT11100Rs_r.jpg: 62 duplicate labels removed\n",
      "\u001b[34m\u001b[1mtrain: \u001b[0mWARNING ⚠️ /Users/charley.dlebarbier/Documents/Dev/VSCode/Projects/projet_NeoAIssyr/notebook_model/data/yolo_data/train/images/VAT13604Rs_r.jpg: 101 duplicate labels removed\n",
      "\u001b[34m\u001b[1mtrain: \u001b[0mWARNING ⚠️ /Users/charley.dlebarbier/Documents/Dev/VSCode/Projects/projet_NeoAIssyr/notebook_model/data/yolo_data/train/images/VAT13604Vs_o.jpg: 236 duplicate labels removed\n",
      "\u001b[34m\u001b[1mtrain: \u001b[0mNew cache created: /Users/charley.dlebarbier/Documents/Dev/VSCode/Projects/projet_NeoAIssyr/notebook_model/data/yolo_data/train/labels.cache\n"
     ]
    },
    {
     "name": "stderr",
     "output_type": "stream",
     "text": [
      "\n",
      "\u001b[34m\u001b[1mval: \u001b[0mScanning /Users/charley.dlebarbier/Documents/Dev/VSCode/Projects/projet_NeoAIssyr/notebook_model/data/yolo_data/valid/labels... 56 images, 0 backgrounds, 0 corrupt: 100%|██████████| 56/56 [00:00<00:00, 839.24it/s]"
     ]
    },
    {
     "name": "stdout",
     "output_type": "stream",
     "text": [
      "\u001b[34m\u001b[1mval: \u001b[0mWARNING ⚠️ /Users/charley.dlebarbier/Documents/Dev/VSCode/Projects/projet_NeoAIssyr/notebook_model/data/yolo_data/valid/images/BM099070_o.jpg: 51 duplicate labels removed\n",
      "\u001b[34m\u001b[1mval: \u001b[0mWARNING ⚠️ /Users/charley.dlebarbier/Documents/Dev/VSCode/Projects/projet_NeoAIssyr/notebook_model/data/yolo_data/valid/images/K08396_o.jpg: 116 duplicate labels removed\n",
      "\u001b[34m\u001b[1mval: \u001b[0mWARNING ⚠️ /Users/charley.dlebarbier/Documents/Dev/VSCode/Projects/projet_NeoAIssyr/notebook_model/data/yolo_data/valid/images/K08396_r.jpg: 175 duplicate labels removed\n",
      "\u001b[34m\u001b[1mval: \u001b[0mWARNING ⚠️ /Users/charley.dlebarbier/Documents/Dev/VSCode/Projects/projet_NeoAIssyr/notebook_model/data/yolo_data/valid/images/ND02486_o.jpg: 46 duplicate labels removed\n",
      "\u001b[34m\u001b[1mval: \u001b[0mWARNING ⚠️ /Users/charley.dlebarbier/Documents/Dev/VSCode/Projects/projet_NeoAIssyr/notebook_model/data/yolo_data/valid/images/ND02486_r.jpg: 44 duplicate labels removed\n",
      "\u001b[34m\u001b[1mval: \u001b[0mWARNING ⚠️ /Users/charley.dlebarbier/Documents/Dev/VSCode/Projects/projet_NeoAIssyr/notebook_model/data/yolo_data/valid/images/P334926_o.jpg: 175 duplicate labels removed\n",
      "\u001b[34m\u001b[1mval: \u001b[0mWARNING ⚠️ /Users/charley.dlebarbier/Documents/Dev/VSCode/Projects/projet_NeoAIssyr/notebook_model/data/yolo_data/valid/images/P334926_r.jpg: 27 duplicate labels removed\n",
      "\u001b[34m\u001b[1mval: \u001b[0mWARNING ⚠️ /Users/charley.dlebarbier/Documents/Dev/VSCode/Projects/projet_NeoAIssyr/notebook_model/data/yolo_data/valid/images/P334932_o.jpg: 127 duplicate labels removed\n",
      "\u001b[34m\u001b[1mval: \u001b[0mWARNING ⚠️ /Users/charley.dlebarbier/Documents/Dev/VSCode/Projects/projet_NeoAIssyr/notebook_model/data/yolo_data/valid/images/P334932_r.jpg: 48 duplicate labels removed\n",
      "\u001b[34m\u001b[1mval: \u001b[0mWARNING ⚠️ /Users/charley.dlebarbier/Documents/Dev/VSCode/Projects/projet_NeoAIssyr/notebook_model/data/yolo_data/valid/images/P335561_o.jpg: 43 duplicate labels removed\n",
      "\u001b[34m\u001b[1mval: \u001b[0mWARNING ⚠️ /Users/charley.dlebarbier/Documents/Dev/VSCode/Projects/projet_NeoAIssyr/notebook_model/data/yolo_data/valid/images/P335561_r.jpg: 27 duplicate labels removed\n",
      "\u001b[34m\u001b[1mval: \u001b[0mWARNING ⚠️ /Users/charley.dlebarbier/Documents/Dev/VSCode/Projects/projet_NeoAIssyr/notebook_model/data/yolo_data/valid/images/P335575_o.jpg: 21 duplicate labels removed\n",
      "\u001b[34m\u001b[1mval: \u001b[0mWARNING ⚠️ /Users/charley.dlebarbier/Documents/Dev/VSCode/Projects/projet_NeoAIssyr/notebook_model/data/yolo_data/valid/images/P335575_r.jpg: 37 duplicate labels removed\n",
      "\u001b[34m\u001b[1mval: \u001b[0mWARNING ⚠️ /Users/charley.dlebarbier/Documents/Dev/VSCode/Projects/projet_NeoAIssyr/notebook_model/data/yolo_data/valid/images/P335593_o.jpg: 31 duplicate labels removed\n",
      "\u001b[34m\u001b[1mval: \u001b[0mWARNING ⚠️ /Users/charley.dlebarbier/Documents/Dev/VSCode/Projects/projet_NeoAIssyr/notebook_model/data/yolo_data/valid/images/P335597_o.jpg: 18 duplicate labels removed\n",
      "\u001b[34m\u001b[1mval: \u001b[0mWARNING ⚠️ /Users/charley.dlebarbier/Documents/Dev/VSCode/Projects/projet_NeoAIssyr/notebook_model/data/yolo_data/valid/images/P335646_o.jpg: 13 duplicate labels removed\n",
      "\u001b[34m\u001b[1mval: \u001b[0mWARNING ⚠️ /Users/charley.dlebarbier/Documents/Dev/VSCode/Projects/projet_NeoAIssyr/notebook_model/data/yolo_data/valid/images/P335650_o.jpg: 12 duplicate labels removed\n",
      "\u001b[34m\u001b[1mval: \u001b[0mWARNING ⚠️ /Users/charley.dlebarbier/Documents/Dev/VSCode/Projects/projet_NeoAIssyr/notebook_model/data/yolo_data/valid/images/P335651_o.jpg: 19 duplicate labels removed\n",
      "\u001b[34m\u001b[1mval: \u001b[0mWARNING ⚠️ /Users/charley.dlebarbier/Documents/Dev/VSCode/Projects/projet_NeoAIssyr/notebook_model/data/yolo_data/valid/images/P335652_o.jpg: 25 duplicate labels removed\n",
      "\u001b[34m\u001b[1mval: \u001b[0mWARNING ⚠️ /Users/charley.dlebarbier/Documents/Dev/VSCode/Projects/projet_NeoAIssyr/notebook_model/data/yolo_data/valid/images/P335652_r.jpg: 35 duplicate labels removed\n",
      "\u001b[34m\u001b[1mval: \u001b[0mWARNING ⚠️ /Users/charley.dlebarbier/Documents/Dev/VSCode/Projects/projet_NeoAIssyr/notebook_model/data/yolo_data/valid/images/P335653_o.jpg: 136 duplicate labels removed\n",
      "\u001b[34m\u001b[1mval: \u001b[0mWARNING ⚠️ /Users/charley.dlebarbier/Documents/Dev/VSCode/Projects/projet_NeoAIssyr/notebook_model/data/yolo_data/valid/images/P335653_r.jpg: 21 duplicate labels removed\n",
      "\u001b[34m\u001b[1mval: \u001b[0mWARNING ⚠️ /Users/charley.dlebarbier/Documents/Dev/VSCode/Projects/projet_NeoAIssyr/notebook_model/data/yolo_data/valid/images/P335937_o.jpg: 20 duplicate labels removed\n",
      "\u001b[34m\u001b[1mval: \u001b[0mWARNING ⚠️ /Users/charley.dlebarbier/Documents/Dev/VSCode/Projects/projet_NeoAIssyr/notebook_model/data/yolo_data/valid/images/P335937_r.jpg: 85 duplicate labels removed\n",
      "\u001b[34m\u001b[1mval: \u001b[0mWARNING ⚠️ /Users/charley.dlebarbier/Documents/Dev/VSCode/Projects/projet_NeoAIssyr/notebook_model/data/yolo_data/valid/images/P335940_o.jpg: 61 duplicate labels removed\n",
      "\u001b[34m\u001b[1mval: \u001b[0mWARNING ⚠️ /Users/charley.dlebarbier/Documents/Dev/VSCode/Projects/projet_NeoAIssyr/notebook_model/data/yolo_data/valid/images/P335940_r.jpg: 78 duplicate labels removed\n",
      "\u001b[34m\u001b[1mval: \u001b[0mWARNING ⚠️ /Users/charley.dlebarbier/Documents/Dev/VSCode/Projects/projet_NeoAIssyr/notebook_model/data/yolo_data/valid/images/P335941_o.jpg: 15 duplicate labels removed\n",
      "\u001b[34m\u001b[1mval: \u001b[0mWARNING ⚠️ /Users/charley.dlebarbier/Documents/Dev/VSCode/Projects/projet_NeoAIssyr/notebook_model/data/yolo_data/valid/images/P335946_o.jpg: 42 duplicate labels removed\n",
      "\u001b[34m\u001b[1mval: \u001b[0mWARNING ⚠️ /Users/charley.dlebarbier/Documents/Dev/VSCode/Projects/projet_NeoAIssyr/notebook_model/data/yolo_data/valid/images/P335946_r.jpg: 65 duplicate labels removed\n",
      "\u001b[34m\u001b[1mval: \u001b[0mWARNING ⚠️ /Users/charley.dlebarbier/Documents/Dev/VSCode/Projects/projet_NeoAIssyr/notebook_model/data/yolo_data/valid/images/P335949_o.jpg: 145 duplicate labels removed\n",
      "\u001b[34m\u001b[1mval: \u001b[0mWARNING ⚠️ /Users/charley.dlebarbier/Documents/Dev/VSCode/Projects/projet_NeoAIssyr/notebook_model/data/yolo_data/valid/images/P335949_r.jpg: 151 duplicate labels removed\n",
      "\u001b[34m\u001b[1mval: \u001b[0mWARNING ⚠️ /Users/charley.dlebarbier/Documents/Dev/VSCode/Projects/projet_NeoAIssyr/notebook_model/data/yolo_data/valid/images/P335957_o.jpg: 69 duplicate labels removed\n",
      "\u001b[34m\u001b[1mval: \u001b[0mWARNING ⚠️ /Users/charley.dlebarbier/Documents/Dev/VSCode/Projects/projet_NeoAIssyr/notebook_model/data/yolo_data/valid/images/P335957_r.jpg: 79 duplicate labels removed\n",
      "\u001b[34m\u001b[1mval: \u001b[0mWARNING ⚠️ /Users/charley.dlebarbier/Documents/Dev/VSCode/Projects/projet_NeoAIssyr/notebook_model/data/yolo_data/valid/images/P335958_o.jpg: 32 duplicate labels removed\n",
      "\u001b[34m\u001b[1mval: \u001b[0mWARNING ⚠️ /Users/charley.dlebarbier/Documents/Dev/VSCode/Projects/projet_NeoAIssyr/notebook_model/data/yolo_data/valid/images/P335958_r.jpg: 39 duplicate labels removed\n",
      "\u001b[34m\u001b[1mval: \u001b[0mWARNING ⚠️ /Users/charley.dlebarbier/Documents/Dev/VSCode/Projects/projet_NeoAIssyr/notebook_model/data/yolo_data/valid/images/P335959_o.jpg: 66 duplicate labels removed\n",
      "\u001b[34m\u001b[1mval: \u001b[0mWARNING ⚠️ /Users/charley.dlebarbier/Documents/Dev/VSCode/Projects/projet_NeoAIssyr/notebook_model/data/yolo_data/valid/images/P335959_r.jpg: 65 duplicate labels removed\n",
      "\u001b[34m\u001b[1mval: \u001b[0mWARNING ⚠️ /Users/charley.dlebarbier/Documents/Dev/VSCode/Projects/projet_NeoAIssyr/notebook_model/data/yolo_data/valid/images/P335960_o.jpg: 20 duplicate labels removed\n",
      "\u001b[34m\u001b[1mval: \u001b[0mWARNING ⚠️ /Users/charley.dlebarbier/Documents/Dev/VSCode/Projects/projet_NeoAIssyr/notebook_model/data/yolo_data/valid/images/P335960_r.jpg: 22 duplicate labels removed\n",
      "\u001b[34m\u001b[1mval: \u001b[0mWARNING ⚠️ /Users/charley.dlebarbier/Documents/Dev/VSCode/Projects/projet_NeoAIssyr/notebook_model/data/yolo_data/valid/images/P335976_o.jpg: 76 duplicate labels removed\n",
      "\u001b[34m\u001b[1mval: \u001b[0mWARNING ⚠️ /Users/charley.dlebarbier/Documents/Dev/VSCode/Projects/projet_NeoAIssyr/notebook_model/data/yolo_data/valid/images/P335976_r.jpg: 118 duplicate labels removed\n",
      "\u001b[34m\u001b[1mval: \u001b[0mWARNING ⚠️ /Users/charley.dlebarbier/Documents/Dev/VSCode/Projects/projet_NeoAIssyr/notebook_model/data/yolo_data/valid/images/P335980_o.jpg: 7 duplicate labels removed\n",
      "\u001b[34m\u001b[1mval: \u001b[0mWARNING ⚠️ /Users/charley.dlebarbier/Documents/Dev/VSCode/Projects/projet_NeoAIssyr/notebook_model/data/yolo_data/valid/images/P335980_r.jpg: 2 duplicate labels removed\n",
      "\u001b[34m\u001b[1mval: \u001b[0mWARNING ⚠️ /Users/charley.dlebarbier/Documents/Dev/VSCode/Projects/projet_NeoAIssyr/notebook_model/data/yolo_data/valid/images/P336003_o.jpg: 23 duplicate labels removed\n",
      "\u001b[34m\u001b[1mval: \u001b[0mWARNING ⚠️ /Users/charley.dlebarbier/Documents/Dev/VSCode/Projects/projet_NeoAIssyr/notebook_model/data/yolo_data/valid/images/P336003_r.jpg: 14 duplicate labels removed\n",
      "\u001b[34m\u001b[1mval: \u001b[0mWARNING ⚠️ /Users/charley.dlebarbier/Documents/Dev/VSCode/Projects/projet_NeoAIssyr/notebook_model/data/yolo_data/valid/images/P336009_o.jpg: 46 duplicate labels removed\n",
      "\u001b[34m\u001b[1mval: \u001b[0mWARNING ⚠️ /Users/charley.dlebarbier/Documents/Dev/VSCode/Projects/projet_NeoAIssyr/notebook_model/data/yolo_data/valid/images/P336009_r.jpg: 40 duplicate labels removed\n",
      "\u001b[34m\u001b[1mval: \u001b[0mWARNING ⚠️ /Users/charley.dlebarbier/Documents/Dev/VSCode/Projects/projet_NeoAIssyr/notebook_model/data/yolo_data/valid/images/P336128_o.jpg: 186 duplicate labels removed\n",
      "\u001b[34m\u001b[1mval: \u001b[0mWARNING ⚠️ /Users/charley.dlebarbier/Documents/Dev/VSCode/Projects/projet_NeoAIssyr/notebook_model/data/yolo_data/valid/images/P336128_r.jpg: 99 duplicate labels removed\n",
      "\u001b[34m\u001b[1mval: \u001b[0mWARNING ⚠️ /Users/charley.dlebarbier/Documents/Dev/VSCode/Projects/projet_NeoAIssyr/notebook_model/data/yolo_data/valid/images/P336150_o.jpg: 404 duplicate labels removed\n",
      "\u001b[34m\u001b[1mval: \u001b[0mWARNING ⚠️ /Users/charley.dlebarbier/Documents/Dev/VSCode/Projects/projet_NeoAIssyr/notebook_model/data/yolo_data/valid/images/P336150_r.jpg: 19 duplicate labels removed\n",
      "\u001b[34m\u001b[1mval: \u001b[0mWARNING ⚠️ /Users/charley.dlebarbier/Documents/Dev/VSCode/Projects/projet_NeoAIssyr/notebook_model/data/yolo_data/valid/images/P336158_o.jpg: 46 duplicate labels removed\n",
      "\u001b[34m\u001b[1mval: \u001b[0mWARNING ⚠️ /Users/charley.dlebarbier/Documents/Dev/VSCode/Projects/projet_NeoAIssyr/notebook_model/data/yolo_data/valid/images/P336158_r.jpg: 61 duplicate labels removed\n",
      "\u001b[34m\u001b[1mval: \u001b[0mWARNING ⚠️ /Users/charley.dlebarbier/Documents/Dev/VSCode/Projects/projet_NeoAIssyr/notebook_model/data/yolo_data/valid/images/P336188_o.jpg: 113 duplicate labels removed\n",
      "\u001b[34m\u001b[1mval: \u001b[0mWARNING ⚠️ /Users/charley.dlebarbier/Documents/Dev/VSCode/Projects/projet_NeoAIssyr/notebook_model/data/yolo_data/valid/images/P336198_o.jpg: 12 duplicate labels removed\n",
      "\u001b[34m\u001b[1mval: \u001b[0mWARNING ⚠️ /Users/charley.dlebarbier/Documents/Dev/VSCode/Projects/projet_NeoAIssyr/notebook_model/data/yolo_data/valid/images/P336637_o.jpg: 21 duplicate labels removed\n",
      "\u001b[34m\u001b[1mval: \u001b[0mNew cache created: /Users/charley.dlebarbier/Documents/Dev/VSCode/Projects/projet_NeoAIssyr/notebook_model/data/yolo_data/valid/labels.cache\n"
     ]
    },
    {
     "name": "stderr",
     "output_type": "stream",
     "text": [
      "\n"
     ]
    },
    {
     "name": "stdout",
     "output_type": "stream",
     "text": [
      "Plotting labels to /Users/charley.dlebarbier/Documents/Dev/VSCode/Projects/projet_NeoAIssyr/runs/detect/train7/labels.jpg... \n",
      "\u001b[34m\u001b[1moptimizer:\u001b[0m 'optimizer=auto' found, ignoring 'lr0=0.01' and 'momentum=0.937' and determining best 'optimizer', 'lr0' and 'momentum' automatically... \n",
      "\u001b[34m\u001b[1moptimizer:\u001b[0m AdamW(lr=3.5e-05, momentum=0.9) with parameter groups 135 weight(decay=0.0), 142 weight(decay=0.00046875), 141 bias(decay=0.0)\n"
     ]
    },
    {
     "name": "stderr",
     "output_type": "stream",
     "text": [
      "2024/02/10 16:13:28 INFO mlflow.tracking.fluent: Experiment with name '/Shared/YOLOv8' does not exist. Creating a new experiment.\n"
     ]
    },
    {
     "name": "stdout",
     "output_type": "stream",
     "text": [
      "\u001b[34m\u001b[1mMLflow: \u001b[0mlogging run_id(b547ff3f487641649f01efb39da0c090) to /Users/charley.dlebarbier/Documents/Dev/VSCode/Projects/projet_NeoAIssyr/runs/mlflow\n",
      "\u001b[34m\u001b[1mMLflow: \u001b[0mview at http://127.0.0.1:5000 with 'mlflow server --backend-store-uri /Users/charley.dlebarbier/Documents/Dev/VSCode/Projects/projet_NeoAIssyr/runs/mlflow'\n",
      "\u001b[34m\u001b[1mMLflow: \u001b[0mdisable with 'yolo settings mlflow=False'\n",
      "Image sizes 640 train, 640 val\n",
      "Using 0 dataloader workers\n",
      "Logging results to \u001b[1m/Users/charley.dlebarbier/Documents/Dev/VSCode/Projects/projet_NeoAIssyr/runs/detect/train7\u001b[0m\n",
      "Starting training for 50 epochs...\n",
      "\n",
      "      Epoch    GPU_mem   box_loss   cls_loss   dfl_loss  Instances       Size\n"
     ]
    },
    {
     "name": "stderr",
     "output_type": "stream",
     "text": [
      "       1/50         0G      2.496      5.438      2.867       2864        640:  50%|█████     | 2/4 [22:20<22:20, 670.33s/it]\n"
     ]
    },
    {
     "ename": "KeyboardInterrupt",
     "evalue": "",
     "output_type": "error",
     "traceback": [
      "\u001b[0;31m---------------------------------------------------------------------------\u001b[0m",
      "\u001b[0;31mKeyboardInterrupt\u001b[0m                         Traceback (most recent call last)",
      "Cell \u001b[0;32mIn[9], line 3\u001b[0m\n\u001b[1;32m      1\u001b[0m model \u001b[38;5;241m=\u001b[39m YOLO(\u001b[38;5;124m\"\u001b[39m\u001b[38;5;124myolov5x.pt\u001b[39m\u001b[38;5;124m\"\u001b[39m)\n\u001b[0;32m----> 3\u001b[0m results \u001b[38;5;241m=\u001b[39m \u001b[43mmodel\u001b[49m\u001b[38;5;241;43m.\u001b[39;49m\u001b[43mtrain\u001b[49m\u001b[43m(\u001b[49m\u001b[43mdata\u001b[49m\u001b[38;5;241;43m=\u001b[39;49m\u001b[38;5;124;43m\"\u001b[39;49m\u001b[38;5;124;43m/Users/charley.dlebarbier/Documents/Dev/VSCode/Projects/projet_NeoAIssyr/notebook_model/data/yolo_data/custom.yaml\u001b[39;49m\u001b[38;5;124;43m\"\u001b[39;49m\u001b[43m,\u001b[49m\u001b[43m \u001b[49m\n\u001b[1;32m      4\u001b[0m \u001b[43m                      \u001b[49m\u001b[43mepochs\u001b[49m\u001b[38;5;241;43m=\u001b[39;49m\u001b[38;5;241;43m50\u001b[39;49m\u001b[43m,\u001b[49m\u001b[43m \u001b[49m\u001b[43mbatch\u001b[49m\u001b[38;5;241;43m=\u001b[39;49m\u001b[38;5;241;43m20\u001b[39;49m\u001b[43m,\u001b[49m\u001b[43m \u001b[49m\u001b[43mimgsz\u001b[49m\u001b[38;5;241;43m=\u001b[39;49m\u001b[38;5;241;43m640\u001b[39;49m\u001b[43m)\u001b[49m\n",
      "File \u001b[0;32m~/Documents/Dev/VSCode/Projects/projet_NeoAIssyr/env/lib/python3.11/site-packages/ultralytics/engine/model.py:601\u001b[0m, in \u001b[0;36mModel.train\u001b[0;34m(self, trainer, **kwargs)\u001b[0m\n\u001b[1;32m    598\u001b[0m             \u001b[38;5;28;01mpass\u001b[39;00m\n\u001b[1;32m    600\u001b[0m \u001b[38;5;28mself\u001b[39m\u001b[38;5;241m.\u001b[39mtrainer\u001b[38;5;241m.\u001b[39mhub_session \u001b[38;5;241m=\u001b[39m \u001b[38;5;28mself\u001b[39m\u001b[38;5;241m.\u001b[39msession  \u001b[38;5;66;03m# attach optional HUB session\u001b[39;00m\n\u001b[0;32m--> 601\u001b[0m \u001b[38;5;28;43mself\u001b[39;49m\u001b[38;5;241;43m.\u001b[39;49m\u001b[43mtrainer\u001b[49m\u001b[38;5;241;43m.\u001b[39;49m\u001b[43mtrain\u001b[49m\u001b[43m(\u001b[49m\u001b[43m)\u001b[49m\n\u001b[1;32m    602\u001b[0m \u001b[38;5;66;03m# Update model and cfg after training\u001b[39;00m\n\u001b[1;32m    603\u001b[0m \u001b[38;5;28;01mif\u001b[39;00m RANK \u001b[38;5;129;01min\u001b[39;00m (\u001b[38;5;241m-\u001b[39m\u001b[38;5;241m1\u001b[39m, \u001b[38;5;241m0\u001b[39m):\n",
      "File \u001b[0;32m~/Documents/Dev/VSCode/Projects/projet_NeoAIssyr/env/lib/python3.11/site-packages/ultralytics/engine/trainer.py:208\u001b[0m, in \u001b[0;36mBaseTrainer.train\u001b[0;34m(self)\u001b[0m\n\u001b[1;32m    205\u001b[0m         ddp_cleanup(\u001b[38;5;28mself\u001b[39m, \u001b[38;5;28mstr\u001b[39m(file))\n\u001b[1;32m    207\u001b[0m \u001b[38;5;28;01melse\u001b[39;00m:\n\u001b[0;32m--> 208\u001b[0m     \u001b[38;5;28;43mself\u001b[39;49m\u001b[38;5;241;43m.\u001b[39;49m\u001b[43m_do_train\u001b[49m\u001b[43m(\u001b[49m\u001b[43mworld_size\u001b[49m\u001b[43m)\u001b[49m\n",
      "File \u001b[0;32m~/Documents/Dev/VSCode/Projects/projet_NeoAIssyr/env/lib/python3.11/site-packages/ultralytics/engine/trainer.py:388\u001b[0m, in \u001b[0;36mBaseTrainer._do_train\u001b[0;34m(self, world_size)\u001b[0m\n\u001b[1;32m    386\u001b[0m \u001b[38;5;66;03m# Optimize - https://pytorch.org/docs/master/notes/amp_examples.html\u001b[39;00m\n\u001b[1;32m    387\u001b[0m \u001b[38;5;28;01mif\u001b[39;00m ni \u001b[38;5;241m-\u001b[39m last_opt_step \u001b[38;5;241m>\u001b[39m\u001b[38;5;241m=\u001b[39m \u001b[38;5;28mself\u001b[39m\u001b[38;5;241m.\u001b[39maccumulate:\n\u001b[0;32m--> 388\u001b[0m     \u001b[38;5;28;43mself\u001b[39;49m\u001b[38;5;241;43m.\u001b[39;49m\u001b[43moptimizer_step\u001b[49m\u001b[43m(\u001b[49m\u001b[43m)\u001b[49m\n\u001b[1;32m    389\u001b[0m     last_opt_step \u001b[38;5;241m=\u001b[39m ni\n\u001b[1;32m    391\u001b[0m     \u001b[38;5;66;03m# Timed stopping\u001b[39;00m\n",
      "File \u001b[0;32m~/Documents/Dev/VSCode/Projects/projet_NeoAIssyr/env/lib/python3.11/site-packages/ultralytics/engine/trainer.py:529\u001b[0m, in \u001b[0;36mBaseTrainer.optimizer_step\u001b[0;34m(self)\u001b[0m\n\u001b[1;32m    527\u001b[0m \u001b[38;5;28mself\u001b[39m\u001b[38;5;241m.\u001b[39mscaler\u001b[38;5;241m.\u001b[39mstep(\u001b[38;5;28mself\u001b[39m\u001b[38;5;241m.\u001b[39moptimizer)\n\u001b[1;32m    528\u001b[0m \u001b[38;5;28mself\u001b[39m\u001b[38;5;241m.\u001b[39mscaler\u001b[38;5;241m.\u001b[39mupdate()\n\u001b[0;32m--> 529\u001b[0m \u001b[38;5;28;43mself\u001b[39;49m\u001b[38;5;241;43m.\u001b[39;49m\u001b[43moptimizer\u001b[49m\u001b[38;5;241;43m.\u001b[39;49m\u001b[43mzero_grad\u001b[49m\u001b[43m(\u001b[49m\u001b[43m)\u001b[49m\n\u001b[1;32m    530\u001b[0m \u001b[38;5;28;01mif\u001b[39;00m \u001b[38;5;28mself\u001b[39m\u001b[38;5;241m.\u001b[39mema:\n\u001b[1;32m    531\u001b[0m     \u001b[38;5;28mself\u001b[39m\u001b[38;5;241m.\u001b[39mema\u001b[38;5;241m.\u001b[39mupdate(\u001b[38;5;28mself\u001b[39m\u001b[38;5;241m.\u001b[39mmodel)\n",
      "File \u001b[0;32m~/Documents/Dev/VSCode/Projects/projet_NeoAIssyr/env/lib/python3.11/site-packages/torch/_compile.py:24\u001b[0m, in \u001b[0;36m_disable_dynamo.<locals>.inner\u001b[0;34m(*args, **kwargs)\u001b[0m\n\u001b[1;32m     20\u001b[0m \u001b[38;5;129m@functools\u001b[39m\u001b[38;5;241m.\u001b[39mwraps(fn)\n\u001b[1;32m     21\u001b[0m \u001b[38;5;28;01mdef\u001b[39;00m \u001b[38;5;21minner\u001b[39m(\u001b[38;5;241m*\u001b[39margs, \u001b[38;5;241m*\u001b[39m\u001b[38;5;241m*\u001b[39mkwargs):\n\u001b[1;32m     22\u001b[0m     \u001b[38;5;28;01mimport\u001b[39;00m \u001b[38;5;21;01mtorch\u001b[39;00m\u001b[38;5;21;01m.\u001b[39;00m\u001b[38;5;21;01m_dynamo\u001b[39;00m\n\u001b[0;32m---> 24\u001b[0m     \u001b[38;5;28;01mreturn\u001b[39;00m \u001b[43mtorch\u001b[49m\u001b[38;5;241;43m.\u001b[39;49m\u001b[43m_dynamo\u001b[49m\u001b[38;5;241;43m.\u001b[39;49m\u001b[43mdisable\u001b[49m\u001b[43m(\u001b[49m\u001b[43mfn\u001b[49m\u001b[43m,\u001b[49m\u001b[43m \u001b[49m\u001b[43mrecursive\u001b[49m\u001b[43m)\u001b[49m\u001b[43m(\u001b[49m\u001b[38;5;241;43m*\u001b[39;49m\u001b[43margs\u001b[49m\u001b[43m,\u001b[49m\u001b[43m \u001b[49m\u001b[38;5;241;43m*\u001b[39;49m\u001b[38;5;241;43m*\u001b[39;49m\u001b[43mkwargs\u001b[49m\u001b[43m)\u001b[49m\n",
      "File \u001b[0;32m~/Documents/Dev/VSCode/Projects/projet_NeoAIssyr/env/lib/python3.11/site-packages/torch/_dynamo/eval_frame.py:489\u001b[0m, in \u001b[0;36m_TorchDynamoContext.__call__.<locals>._fn\u001b[0;34m(*args, **kwargs)\u001b[0m\n\u001b[1;32m    487\u001b[0m     dynamo_config_ctx\u001b[38;5;241m.\u001b[39m\u001b[38;5;21m__enter__\u001b[39m()\n\u001b[1;32m    488\u001b[0m \u001b[38;5;28;01mtry\u001b[39;00m:\n\u001b[0;32m--> 489\u001b[0m     \u001b[38;5;28;01mreturn\u001b[39;00m \u001b[43mfn\u001b[49m\u001b[43m(\u001b[49m\u001b[38;5;241;43m*\u001b[39;49m\u001b[43margs\u001b[49m\u001b[43m,\u001b[49m\u001b[43m \u001b[49m\u001b[38;5;241;43m*\u001b[39;49m\u001b[38;5;241;43m*\u001b[39;49m\u001b[43mkwargs\u001b[49m\u001b[43m)\u001b[49m\n\u001b[1;32m    490\u001b[0m \u001b[38;5;28;01mfinally\u001b[39;00m:\n\u001b[1;32m    491\u001b[0m     set_eval_frame(prior)\n",
      "File \u001b[0;32m~/Documents/Dev/VSCode/Projects/projet_NeoAIssyr/env/lib/python3.11/site-packages/torch/optim/optimizer.py:820\u001b[0m, in \u001b[0;36mOptimizer.zero_grad\u001b[0;34m(self, set_to_none)\u001b[0m\n\u001b[1;32m    818\u001b[0m \u001b[38;5;28;01mif\u001b[39;00m p\u001b[38;5;241m.\u001b[39mgrad \u001b[38;5;129;01mis\u001b[39;00m \u001b[38;5;129;01mnot\u001b[39;00m \u001b[38;5;28;01mNone\u001b[39;00m:\n\u001b[1;32m    819\u001b[0m     \u001b[38;5;28;01mif\u001b[39;00m set_to_none:\n\u001b[0;32m--> 820\u001b[0m         p\u001b[38;5;241m.\u001b[39mgrad \u001b[38;5;241m=\u001b[39m \u001b[38;5;28;01mNone\u001b[39;00m\n\u001b[1;32m    821\u001b[0m     \u001b[38;5;28;01melse\u001b[39;00m:\n\u001b[1;32m    822\u001b[0m         \u001b[38;5;28;01mif\u001b[39;00m p\u001b[38;5;241m.\u001b[39mgrad\u001b[38;5;241m.\u001b[39mgrad_fn \u001b[38;5;129;01mis\u001b[39;00m \u001b[38;5;129;01mnot\u001b[39;00m \u001b[38;5;28;01mNone\u001b[39;00m:\n",
      "\u001b[0;31mKeyboardInterrupt\u001b[0m: "
     ]
    }
   ],
   "source": [
    "model = YOLO(\"yolov5x.pt\")\n",
    "\n",
    "results = model.train(data=\"/Users/charley.dlebarbier/Documents/Dev/VSCode/Projects/projet_NeoAIssyr/notebook_model/data/yolo_data/custom.yaml\", \n",
    "                      epochs=50, batch=20, imgsz=640)"
   ]
  }
 ],
 "metadata": {
  "kernelspec": {
   "display_name": "env",
   "language": "python",
   "name": "python3"
  },
  "language_info": {
   "codemirror_mode": {
    "name": "ipython",
    "version": 3
   },
   "file_extension": ".py",
   "mimetype": "text/x-python",
   "name": "python",
   "nbconvert_exporter": "python",
   "pygments_lexer": "ipython3",
   "version": "3.11.1"
  }
 },
 "nbformat": 4,
 "nbformat_minor": 2
}
